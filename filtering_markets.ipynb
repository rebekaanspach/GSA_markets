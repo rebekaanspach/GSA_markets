{
 "cells": [
  {
   "cell_type": "code",
   "execution_count": 1,
   "id": "e6b62351",
   "metadata": {},
   "outputs": [],
   "source": [
    "import brightway2 as bw\n",
    "import bw2calc as bc\n",
    "import bw2data as bd\n",
    "import numpy as np\n",
    "import pandas as pd\n",
    "import presamples as ps\n",
    "import scipy\n",
    "import scipy.stats as stats"
   ]
  },
  {
   "cell_type": "code",
   "execution_count": null,
   "id": "09102554",
   "metadata": {},
   "outputs": [],
   "source": [
    "from code/filtering_markets import recursive_calc  \n",
    "from code/filtering_markets import get_lca"
   ]
  },
  {
   "cell_type": "code",
   "execution_count": 3,
   "id": "52345b18",
   "metadata": {},
   "outputs": [],
   "source": [
    "bw.projects.set_current(\"UK-wood-clca\")\n",
    "\n",
    "cutoff391 = bw.Database('cutoff-3.9.1')\n",
    "\n",
    "methods = [\n",
    "      ('ReCiPe 2016 v1.03, midpoint (H)', 'climate change', 'global warming potential (GWP1000)'), \n",
    "\n",
    "]"
   ]
  },
  {
   "cell_type": "code",
   "execution_count": 4,
   "id": "e85f2c6d",
   "metadata": {},
   "outputs": [],
   "source": [
    "import re\n",
    "def clean_name(name):\n",
    "    # Replace any non-alphanumeric character (including spaces) with an underscore\n",
    "    clean_name = re.sub(r'[^a-zA-Z0-9]', '_', name)\n",
    "    return clean_name"
   ]
  },
  {
   "cell_type": "code",
   "execution_count": null,
   "id": "eaa8668e",
   "metadata": {},
   "outputs": [],
   "source": [
    "fus = []\n",
    "\n",
    "names = []\n",
    "for v in range(1):\n",
    "    result =   cutoff391.get('1cf8a7ab4ea4bf765ee0119b1f20d570') #cutoff391.random(v)  # Fetch the result once \n",
    "    name = str(result)  # Convert it to a string if needed\n",
    "    \n",
    "    lca = bw.LCA({result:1}, method=methods[0])\n",
    "    lca.lci()\n",
    "    lca.lcia()\n",
    "    \n",
    "    if lca.score == 0 or lca.score < 0:\n",
    "        continue\n",
    "  \n",
    "    # Convert name to lowercase for case-insensitive matching\n",
    "    if 'electricity' in name.lower() or 'waste' in name.lower() or 'treatment' in name.lower() or 'land' in name.lower() or 'cutoff' in name.lower():\n",
    "        continue  # Skip this iteration if the name contains the unwanted words\n",
    "    names.append(clean_name(name))\n",
    "    \n",
    "    fus.append(result[1]) "
   ]
  },
  {
   "cell_type": "code",
   "execution_count": null,
   "id": "564ce156",
   "metadata": {},
   "outputs": [],
   "source": [
    "numbers = fus\n",
    "fus = [cutoff391.get({num}) for num in numbers]"
   ]
  },
  {
   "cell_type": "code",
   "execution_count": 11,
   "id": "4c33391c",
   "metadata": {},
   "outputs": [],
   "source": [
    "fu = pd.read_excel(r\"run.xlsx\", sheet_name='to_run_local')"
   ]
  },
  {
   "cell_type": "code",
   "execution_count": 12,
   "id": "967fe38f",
   "metadata": {},
   "outputs": [],
   "source": [
    "numbers = fu['indices'].tolist()\n",
    "fus = [cutoff391.get({num}) for num in numbers]"
   ]
  },
  {
   "cell_type": "code",
   "execution_count": 13,
   "id": "b2139712",
   "metadata": {},
   "outputs": [],
   "source": [
    "names = fu['names'].tolist()"
   ]
  },
  {
   "cell_type": "code",
   "execution_count": 18,
   "id": "85362aca",
   "metadata": {},
   "outputs": [
    {
     "data": {
      "text/plain": [
       "['_chromium_production___kilogram__RoW__None_']"
      ]
     },
     "execution_count": 18,
     "metadata": {},
     "output_type": "execute_result"
    }
   ],
   "source": [
    "names"
   ]
  },
  {
   "cell_type": "code",
   "execution_count": 19,
   "id": "7d7ef75f",
   "metadata": {
    "scrolled": true
   },
   "outputs": [
    {
     "name": "stdout",
     "output_type": "stream",
     "text": [
      "Non-stochastic LCA score: 30.61757540791155\n",
      "cutoff: 5e-05, max_calc: 1000000000000\n",
      "TECHNOSPHERE (21238, 21238) filtering resulted in 12084 of 266440 exchanges and took 21497 iterations in 111.79 seconds.\n",
      "CLCA analysis complete. Results saved to _chromium_production___kilogram__RoW__None_\n",
      "CPU times: total: 15min 26s\n",
      "Wall time: 2min 25s\n"
     ]
    }
   ],
   "source": [
    "%%time \n",
    "for i in range(len(fus)):\n",
    "    markets = recursive_calc(fus[i], methods, cutoff= 5e-5, max_calc =1000000000000, output_dir= names[i])"
   ]
  },
  {
   "cell_type": "raw",
   "id": "592d826a",
   "metadata": {},
   "source": [
    "dir(markets)"
   ]
  },
  {
   "cell_type": "code",
   "execution_count": null,
   "id": "9b282aa9",
   "metadata": {},
   "outputs": [],
   "source": []
  },
  {
   "cell_type": "code",
   "execution_count": null,
   "id": "d5ffc87a",
   "metadata": {},
   "outputs": [],
   "source": []
  },
  {
   "cell_type": "code",
   "execution_count": null,
   "id": "cd99cfa1",
   "metadata": {},
   "outputs": [],
   "source": []
  }
 ],
 "metadata": {
  "kernelspec": {
   "display_name": "ab",
   "language": "python",
   "name": "ab"
  },
  "language_info": {
   "codemirror_mode": {
    "name": "ipython",
    "version": 3
   },
   "file_extension": ".py",
   "mimetype": "text/x-python",
   "name": "python",
   "nbconvert_exporter": "python",
   "pygments_lexer": "ipython3",
   "version": "3.9.13"
  }
 },
 "nbformat": 4,
 "nbformat_minor": 5
}
