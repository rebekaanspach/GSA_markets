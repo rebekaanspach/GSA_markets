{
 "cells": [
  {
   "cell_type": "markdown",
   "id": "dddd1022",
   "metadata": {},
   "source": [
    "# # Screening Ecoinvent market consumption mixes: grouping by markets"
   ]
  },
  {
   "cell_type": "code",
   "execution_count": 24,
   "id": "8970c3ba",
   "metadata": {},
   "outputs": [
    {
     "data": {
      "text/plain": [
       "(0, 2, 6)"
      ]
     },
     "execution_count": 24,
     "metadata": {},
     "output_type": "execute_result"
    }
   ],
   "source": [
    "import brightway2 as bw\n",
    "import bw2calc as bc\n",
    "import bw2data as bd\n",
    "import numpy as np\n",
    "import pandas as pd\n",
    "import presamples as ps\n",
    "import scipy\n",
    "import scipy.stats as stats\n",
    "from code.functions import make_dirichlet_distribution, get_elec_input, create_presamples, query_for_activities\n",
    "ps.__version__"
   ]
  },
  {
   "cell_type": "code",
   "execution_count": 25,
   "id": "cb18bb69",
   "metadata": {},
   "outputs": [],
   "source": [
    "from presamples import array\n",
    "\n",
    "def custom_sample(self, index):\n",
    "    \"\"\"Draw a new sample from the pre-sampled arrays sequentially not randomly. The original code draws samples randomly. \"\"\"\n",
    "    index_ordered = self.count % self.data[0].shape[1]\n",
    "    result = np.hstack([arr[:, index_ordered] for arr in self.data])\n",
    "    self.count += 1   \n",
    "    return result\n",
    "\n",
    "\n",
    "array.RegularPresamplesArrays.sample = custom_sample"
   ]
  },
  {
   "cell_type": "code",
   "execution_count": 26,
   "id": "c5eaf8e1",
   "metadata": {},
   "outputs": [],
   "source": [
    "bw.projects.set_current(\"UK-wood-clca\")\n",
    "\n",
    "cutoff391 = bw.Database('cutoff-3.9.1')\n",
    "fus = pd.read_excel(r\"run.xlsx\", sheet_name='to_run')\n",
    "numbers = fus['indices'].tolist()\n",
    "output_dir  = fus['names'].tolist()\n",
    "amount  = fus['amount'].tolist()\n",
    "\n",
    "methods = [\n",
    "\n",
    "     ('ReCiPe 2016 v1.03, midpoint (H)', 'climate change', 'global warming potential (GWP1000)'), \n",
    "\n",
    "]"
   ]
  },
  {
   "cell_type": "code",
   "execution_count": 27,
   "id": "79a1fbf9",
   "metadata": {},
   "outputs": [
    {
     "data": {
      "text/plain": [
       "['_market_for_sawnwood__board__softwood__raw__dried__u_20_____cubic_meter__CH__None_']"
      ]
     },
     "execution_count": 27,
     "metadata": {},
     "output_type": "execute_result"
    }
   ],
   "source": [
    "output_dir "
   ]
  },
  {
   "cell_type": "code",
   "execution_count": 28,
   "id": "7ec507f5",
   "metadata": {},
   "outputs": [],
   "source": [
    "i = 0"
   ]
  },
  {
   "cell_type": "code",
   "execution_count": 29,
   "id": "28036b80",
   "metadata": {},
   "outputs": [],
   "source": [
    "from code.morris_market_analysis import perform_morris_market_analysis"
   ]
  },
  {
   "cell_type": "code",
   "execution_count": 30,
   "id": "078ad658",
   "metadata": {},
   "outputs": [],
   "source": [
    "    category_mapping = {\n",
    "    \"01\": \"Crop and animal production, hunting and related service activities\",\n",
    "    \"02\": \"Forestry and logging\",\n",
    "    \"03\": \"Fishing and aquaculture\",\n",
    "    \"05\": \"Mining of coal and lignite\",\n",
    "    \"06\": \"Extraction of crude petroleum and natural gas\",\n",
    "    \"07\": \"Mining of metal ores\",\n",
    "    \"08\": \"Other mining and quarrying\",\n",
    "    \"09\": \"Mining support service activities\",\n",
    "    \"10\": \"Manufacture of food products\",\n",
    "    \"11\": \"Manufacture of beverages\",\n",
    "    \"12\": \"Manufacture of tobacco products\",\n",
    "    \"13\": \"Manufacture of textiles\",\n",
    "    \"14\": \"Manufacture of wearing apparel\",\n",
    "    \"15\": \"Manufacture of leather and related products\",\n",
    "    \"16\": \"Manufacture of wood and products of wood and cork\",\n",
    "    \"17\": \"Manufacture of paper and paper products\",\n",
    "    \"18\": \"Printing and reproduction of recorded media\",\n",
    "    \"19\": \"Manufacture of coke and refined petroleum products\",\n",
    "    \"20\": \"Manufacture of chemicals and chemical products\",\n",
    "    \"21\": \"Manufacture of pharmaceuticals, medicinal chemical and botanical products\",\n",
    "    \"22\": \"Manufacture of rubber and plastic products\",\n",
    "    \"23\": \"Manufacture of other non-metallic mineral products\",\n",
    "    \"24\": \"Manufacture of basic metals\",\n",
    "    \"25\": \"Manufacture of fabricated metal products\",\n",
    "    \"26\": \"Manufacture of computer, electronic, and optical products\",\n",
    "    \"27\": \"Manufacture of electrical equipment\",\n",
    "    \"28\": \"Manufacture of machinery and equipment\",\n",
    "    \"29\": \"Manufacture of motor vehicles, trailers, and semi-trailers\",\n",
    "    \"30\": \"Manufacture of other transport equipment\",\n",
    "    \"31\": \"Manufacture of furniture\",\n",
    "    \"32\": \"Other manufacturing\",\n",
    "    \"33\": \"Repair and installation of machinery and equipment\",\n",
    "    \"35\": \"Electricity, gas, steam and air conditioning supply\",\n",
    "    \"36\": \"Water collection, treatment, and supply\",\n",
    "    \"37\": \"Sewerage\",\n",
    "    \"38\": \"Waste collection, treatment, and disposal activities\",\n",
    "    \"39\": \"Remediation activities and other waste management services\",\n",
    "    \"41\": \"Construction of buildings\",\n",
    "    \"42\": \"Civil engineering\",\n",
    "    \"43\": \"Specialized construction activities\",\n",
    "    \"45\": \"Wholesale and retail trade and repair of motor vehicles and motorcycles\",\n",
    "    \"46\": \"Wholesale trade, except of motor vehicles and motorcycles\",\n",
    "    \"47\": \"Retail trade, except of motor vehicles and motorcycles\",\n",
    "    \"49\": \"Land transport and transport via pipelines\",\n",
    "    \"50\": \"Water transport\",\n",
    "    \"51\": \"Air transport\",\n",
    "    \"52\": \"Warehousing and support activities for transportation\",\n",
    "    \"53\": \"Postal and courier activities\",\n",
    "    \"55\": \"Accommodation\",\n",
    "    \"56\": \"Food and beverage service activities\",\n",
    "    \"58\": \"Publishing activities\",\n",
    "    \"59\": \"Motion picture, video and television programme production, sound recording, and music publishing activities\",\n",
    "    \"60\": \"Programming and broadcasting activities\",\n",
    "    \"61\": \"Telecommunications\",\n",
    "    \"62\": \"Computer programming, consultancy, and related activities\",\n",
    "    \"63\": \"Information service activities\",\n",
    "    \"68\": \"Real estate activities\",\n",
    "    \"69\": \"Legal and accounting activities\",\n",
    "    \"70\": \"Activities of head offices, management consultancy activities\",\n",
    "    \"71\": \"Architectural and engineering activities, technical testing and analysis\",\n",
    "    \"72\": \"Scientific research and development\",\n",
    "    \"73\": \"Advertising and market research\",\n",
    "    \"74\": \"Other professional, scientific, and technical activities\",\n",
    "    \"75\": \"Veterinary activities\",\n",
    "    \"77\": \"Rental and leasing activities\",\n",
    "    \"78\": \"Employment activities\",\n",
    "    \"79\": \"Travel agency, tour operator, and other reservation service and related activities\",\n",
    "    \"80\": \"Security and investigation activities\",\n",
    "    \"81\": \"Services to buildings and landscape activities\",\n",
    "    \"82\": \"Office administrative, office support, and other business support activities\",\n",
    "    \"84\": \"Public administration and defence, compulsory social security\",\n",
    "    \"85\": \"Education\",\n",
    "    \"86\": \"Human health activities\",\n",
    "    \"87\": \"Residential care activities\",\n",
    "    \"88\": \"Social work activities without accommodation\",\n",
    "    \"90\": \"Creative, arts and entertainment activities\",\n",
    "    \"91\": \"Libraries, archives, museums, and other cultural activities\",\n",
    "    \"92\": \"Gambling and betting activities\",\n",
    "    \"93\": \"Sports activities and amusement and recreation activities\",\n",
    "    \"94\": \"Activities of membership organizations\",\n",
    "    \"95\": \"Repair of computers and personal and household goods\",\n",
    "    \"96\": \"Other personal service activities\",\n",
    "    \"97\": \"Activities of households as employers of domestic personnel\",\n",
    "    \"98\": \"Undifferentiated goods- and services-producing activities of households for own use\",\n",
    "    \"99\": \"Activities of extraterritorial organizations and bodies\"\n",
    "}\n"
   ]
  },
  {
   "cell_type": "code",
   "execution_count": 31,
   "id": "266a2f65",
   "metadata": {},
   "outputs": [],
   "source": [
    "Global_cat= pd.read_csv(\"results/Global__market_categories_4_products_to_detailed_analysis.csv\")\n",
    "reverse_mapping = {v: k for k, v in category_mapping.items()}\n",
    "\n",
    "Global_cat['Category Number'] = Global_cat['names'].map(reverse_mapping)\n",
    "\n",
    "fus = pd.read_excel(r\"run.xlsx\", sheet_name='to_run')\n",
    "numbers = fus['indices'].tolist()\n",
    "output_dir  = fus['names'].tolist()\n",
    "amount  = fus['amount'].tolist()\n",
    "amount  = fus['amount'].tolist()\n",
    "reference_product  = fus['reference_product'].tolist()\n",
    "tier = fus['tier'].tolist()\n",
    "\n",
    "fu = [cutoff391.get({num}) for num in numbers]\n"
   ]
  },
  {
   "cell_type": "code",
   "execution_count": 32,
   "id": "8f3e853a",
   "metadata": {},
   "outputs": [
    {
     "data": {
      "text/plain": [
       "'_market_for_sawnwood__board__softwood__raw__dried__u_20_____cubic_meter__CH__None_'"
      ]
     },
     "execution_count": 32,
     "metadata": {},
     "output_type": "execute_result"
    }
   ],
   "source": [
    "Global_cat['fu'][0]"
   ]
  },
  {
   "cell_type": "code",
   "execution_count": 33,
   "id": "9eacb212",
   "metadata": {},
   "outputs": [
    {
     "name": "stdout",
     "output_type": "stream",
     "text": [
      "4\n"
     ]
    }
   ],
   "source": [
    "for i in range(len(output_dir)):\n",
    "     print(len(Global_cat[Global_cat['fu'] == output_dir[i]]['names'].values))"
   ]
  },
  {
   "cell_type": "code",
   "execution_count": 34,
   "id": "37482673",
   "metadata": {},
   "outputs": [
    {
     "data": {
      "text/plain": [
       "['_market_for_sawnwood__board__softwood__raw__dried__u_20_____cubic_meter__CH__None_']"
      ]
     },
     "execution_count": 34,
     "metadata": {},
     "output_type": "execute_result"
    }
   ],
   "source": [
    "output_dir"
   ]
  },
  {
   "cell_type": "code",
   "execution_count": 35,
   "id": "8ff8463c",
   "metadata": {
    "scrolled": true
   },
   "outputs": [
    {
     "name": "stdout",
     "output_type": "stream",
     "text": [
      "188\n"
     ]
    },
    {
     "name": "stderr",
     "output_type": "stream",
     "text": [
      "C:\\Users\\rla44\\OneDrive\\Github\\GSA_markets\\code\\morris_market_analysis.py:347: FutureWarning: arrays to stack must be passed as a \"sequence\" type such as list or tuple. Support for non-sequence iterables such as generators is deprecated as of NumPy 1.16 and will raise an error in the future.\n",
      "  yield np.hstack(compositions)\n"
     ]
    },
    {
     "name": "stdout",
     "output_type": "stream",
     "text": [
      "2069\n",
      "2069\n",
      "1881\n",
      "CPU times: total: 27min 8s\n",
      "Wall time: 24min 35s\n"
     ]
    }
   ],
   "source": [
    "%%time\n",
    "levels = [12]\n",
    "Global_market_scores = []\n",
    "\n",
    "for i in range(len(output_dir)): \n",
    "    if len(Global_cat[Global_cat['fu'] == output_dir[i]]['names'].values) != 0:\n",
    "        for level in levels:\n",
    "            sa_market = perform_morris_market_analysis(\n",
    "                fu[i], \n",
    "                1,\n",
    "                output_dir[i],\n",
    "                output_dir[i], \n",
    "                methods, \n",
    "                cutoff391, \n",
    "                trajectories=50,  \n",
    "                num_levels=level,\n",
    "                category_names=Global_cat[Global_cat['fu'] == output_dir[i]]['names'].values,\n",
    "                category_numbers=Global_cat[Global_cat['fu'] == output_dir[i]]['Category Number'].values,\n",
    "                mean =117.8113726,# 2.870307461,\n",
    "                market_dir=output_dir[i],\n",
    "            )\n",
    "            Global_market_scores.append(sa_market)\n",
    "Global_market_scores = pd.concat(Global_market_scores, ignore_index=True)\n",
    "#Global_market_scores.to_csv(f\"results/Global_scores_by_market_4_other_products.csv\", index=False)\n"
   ]
  },
  {
   "cell_type": "code",
   "execution_count": 36,
   "id": "39dac266",
   "metadata": {},
   "outputs": [],
   "source": [
    "\n",
    "#Global_market_scores.to_csv(f\"results/Global_scores_by_market_4_other_products_2.csv\", index=False)"
   ]
  },
  {
   "cell_type": "code",
   "execution_count": null,
   "id": "ce53d6e2",
   "metadata": {},
   "outputs": [],
   "source": []
  },
  {
   "cell_type": "code",
   "execution_count": null,
   "id": "96ba8aac",
   "metadata": {},
   "outputs": [],
   "source": []
  }
 ],
 "metadata": {
  "kernelspec": {
   "display_name": "ab",
   "language": "python",
   "name": "ab"
  },
  "language_info": {
   "codemirror_mode": {
    "name": "ipython",
    "version": 3
   },
   "file_extension": ".py",
   "mimetype": "text/x-python",
   "name": "python",
   "nbconvert_exporter": "python",
   "pygments_lexer": "ipython3",
   "version": "3.9.13"
  }
 },
 "nbformat": 4,
 "nbformat_minor": 5
}
