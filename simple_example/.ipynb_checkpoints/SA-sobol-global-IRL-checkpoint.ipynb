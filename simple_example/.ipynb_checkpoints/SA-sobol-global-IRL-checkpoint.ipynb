{
 "cells": [
  {
   "cell_type": "markdown",
   "id": "dddd1022",
   "metadata": {},
   "source": [
    "# Uncertainty on market shares"
   ]
  },
  {
   "cell_type": "code",
   "execution_count": 78,
   "id": "8970c3ba",
   "metadata": {},
   "outputs": [
    {
     "data": {
      "text/plain": [
       "(0, 2, 6)"
      ]
     },
     "execution_count": 78,
     "metadata": {},
     "output_type": "execute_result"
    }
   ],
   "source": [
    "import brightway2 as bw\n",
    "import bw2calc as bc\n",
    "import bw2data as bd\n",
    "import numpy as np\n",
    "import pandas as pd\n",
    "import presamples as ps\n",
    "import scipy\n",
    "import scipy.stats as stats\n",
    "from functions import make_dirichlet_distribution, get_elec_input, create_presamples, query_for_activities\n",
    "ps.__version__"
   ]
  },
  {
   "cell_type": "code",
   "execution_count": 79,
   "id": "c5eaf8e1",
   "metadata": {},
   "outputs": [],
   "source": [
    "bw.projects.set_current(\"UK-wood-clca\")\n",
    "cutoff391 = bw.Database('cutoff-3.9.1')\n",
    "\n",
    "test = bw.Database('mydb3')\n",
    "\n",
    "fu = test.get('0cf1f43a31e143b5bc5c06f8979f08b8')\n",
    "\n",
    "\n",
    "all_demands = [{fu: 1}]\n",
    "d_label = [\"fu\"]\n",
    "\n",
    "methods = [\n",
    "     ('ReCiPe 2016 v1.03, midpoint (H)', 'climate change', 'global warming potential (GWP1000)'), \n",
    "]"
   ]
  },
  {
   "cell_type": "code",
   "execution_count": 80,
   "id": "011ab5f9",
   "metadata": {},
   "outputs": [
    {
     "data": {
      "text/plain": [
       "'market 0' (unit, GLO, None)"
      ]
     },
     "execution_count": 80,
     "metadata": {},
     "output_type": "execute_result"
    }
   ],
   "source": [
    "fu"
   ]
  },
  {
   "cell_type": "code",
   "execution_count": 81,
   "id": "fae3cd01",
   "metadata": {},
   "outputs": [
    {
     "data": {
      "text/plain": [
       "[]"
      ]
     },
     "execution_count": 81,
     "metadata": {},
     "output_type": "execute_result"
    }
   ],
   "source": [
    "fu.get('classifications', [])"
   ]
  },
  {
   "cell_type": "markdown",
   "id": "51f58ac3",
   "metadata": {},
   "source": [
    "# Initialising monte calro lca"
   ]
  },
  {
   "cell_type": "code",
   "execution_count": 82,
   "id": "886e9dd6",
   "metadata": {},
   "outputs": [],
   "source": [
    "from bw_helpers import sample_results, MyMonteCarloLCA, collect_results"
   ]
  },
  {
   "cell_type": "code",
   "execution_count": 83,
   "id": "9350ac2e",
   "metadata": {},
   "outputs": [
    {
     "name": "stdout",
     "output_type": "stream",
     "text": [
      "CPU times: total: 156 ms\n",
      "Wall time: 158 ms\n"
     ]
    },
    {
     "data": {
      "text/plain": [
       "9.999999905005097"
      ]
     },
     "execution_count": 83,
     "metadata": {},
     "output_type": "execute_result"
    }
   ],
   "source": [
    "%%time\n",
    "all_demand_dict = all_demands[0].copy()\n",
    "for other_demand in all_demands[1:]:\n",
    "    all_demand_dict.update(other_demand)\n",
    "\n",
    "db = ['mydb']\n",
    "\n",
    "indices = [1,1]\n",
    "\n",
    "clca = MyMonteCarloLCA(all_demand_dict, \n",
    "                               method=methods[0], \n",
    "                               #presamples = presample,\n",
    "                               final_activities=[],\n",
    "                               database_name = db, \n",
    "                               tech_indices=None,\n",
    "                               bio_indices=None,\n",
    "                               include_only_specific_bio_uncertainty= True, \n",
    "                               include_only_specific_exc_uncertainty = True,\n",
    "                               seed =False)\n",
    "next(clca)\n"
   ]
  },
  {
   "cell_type": "markdown",
   "id": "71b9674c",
   "metadata": {},
   "source": [
    "# Load results of recursive calulcation"
   ]
  },
  {
   "cell_type": "code",
   "execution_count": 84,
   "id": "572eb5db",
   "metadata": {},
   "outputs": [],
   "source": [
    "indices = pd.read_csv(r'..\\..\\GSA_markets\\markets_to_screen\\test_indices.csv')"
   ]
  },
  {
   "cell_type": "code",
   "execution_count": 85,
   "id": "8767a7da",
   "metadata": {},
   "outputs": [],
   "source": [
    "indices_list = list(indices.itertuples(index=False, name=None))"
   ]
  },
  {
   "cell_type": "code",
   "execution_count": 86,
   "id": "180ae602",
   "metadata": {},
   "outputs": [],
   "source": [
    "duplicate_activities_removed = list(set(indices_list))"
   ]
  },
  {
   "cell_type": "code",
   "execution_count": 87,
   "id": "4d41b2e2",
   "metadata": {},
   "outputs": [],
   "source": [
    "activities =[]\n",
    "for i in range(len(duplicate_activities_removed)):\n",
    "    db = bw.Database(duplicate_activities_removed[i][0])\n",
    "    activity = db.get(duplicate_activities_removed[i][1])\n",
    "    activities.append(activity)"
   ]
  },
  {
   "cell_type": "code",
   "execution_count": 88,
   "id": "cb2bb1da",
   "metadata": {},
   "outputs": [
    {
     "data": {
      "text/plain": [
       "2"
      ]
     },
     "execution_count": 88,
     "metadata": {},
     "output_type": "execute_result"
    }
   ],
   "source": [
    "len(activities)"
   ]
  },
  {
   "cell_type": "code",
   "execution_count": 89,
   "id": "33fac8fb",
   "metadata": {},
   "outputs": [
    {
     "data": {
      "text/plain": [
       "['market 1' (unit, GLO, None), 'market 0' (unit, GLO, None)]"
      ]
     },
     "execution_count": 89,
     "metadata": {},
     "output_type": "execute_result"
    }
   ],
   "source": [
    "activities"
   ]
  },
  {
   "cell_type": "markdown",
   "id": "be677b20",
   "metadata": {},
   "source": [
    "# Query exchanges"
   ]
  },
  {
   "cell_type": "markdown",
   "id": "f101d139",
   "metadata": {},
   "source": [
    "Find all the exchanges of the selected activities. Filter and exclude any exchange that should not be sampled."
   ]
  },
  {
   "cell_type": "code",
   "execution_count": 90,
   "id": "e0fcf08e",
   "metadata": {},
   "outputs": [
    {
     "data": {
      "text/plain": [
       "6"
      ]
     },
     "execution_count": 90,
     "metadata": {},
     "output_type": "execute_result"
    }
   ],
   "source": [
    "exchanges= MyMonteCarloLCA.get_exchanges_of_activity_wo_category(clca, activities)\n",
    "len(exchanges)"
   ]
  },
  {
   "cell_type": "code",
   "execution_count": 91,
   "id": "b70613bf",
   "metadata": {},
   "outputs": [
    {
     "data": {
      "text/plain": [
       "6"
      ]
     },
     "execution_count": 91,
     "metadata": {},
     "output_type": "execute_result"
    }
   ],
   "source": [
    "exchanges_units_sorted = [exc for exc in exchanges if exc['exchange']['unit'] == exc['activity']['unit']]\n",
    "len(exchanges_units_sorted)"
   ]
  },
  {
   "cell_type": "code",
   "execution_count": 92,
   "id": "5a39f220",
   "metadata": {},
   "outputs": [
    {
     "data": {
      "text/plain": [
       "4"
      ]
     },
     "execution_count": 92,
     "metadata": {},
     "output_type": "execute_result"
    }
   ],
   "source": [
    "exchanges = [exc for exc in exchanges_units_sorted if exc['tech_indices'][0] != exc['tech_indices'][1] ]\n",
    "len(exchanges)"
   ]
  },
  {
   "cell_type": "code",
   "execution_count": 93,
   "id": "78fe0c8a",
   "metadata": {},
   "outputs": [],
   "source": [
    "activities =[]\n",
    "for exc in exchanges:\n",
    "    activities.append(exc[\"activity\"])"
   ]
  },
  {
   "cell_type": "markdown",
   "id": "b892a39b",
   "metadata": {},
   "source": [
    "## Morris sampling"
   ]
  },
  {
   "cell_type": "code",
   "execution_count": 94,
   "id": "047a55e6",
   "metadata": {},
   "outputs": [],
   "source": [
    "activity_to_group = {}\n",
    "group_counter = 1\n",
    "\n",
    "for entry in exchanges:\n",
    "    activity = entry['activity']\n",
    "    if activity not in activity_to_group:\n",
    "        activity_to_group[activity] = group_counter\n",
    "        group_counter += 1\n",
    "    # Add the group field to the entry\n",
    "    entry['group'] = activity_to_group[activity]\n"
   ]
  },
  {
   "cell_type": "code",
   "execution_count": 95,
   "id": "400914e8",
   "metadata": {},
   "outputs": [],
   "source": [
    "def define_problem(input_data):\n",
    "    # Initialize the output structure\n",
    "    result = {\n",
    " #      'groups': [],\n",
    "        'names': [],\n",
    "        'num_vars': 0,\n",
    "        'bounds': [],\n",
    "        'sample_scaled': True\n",
    "    }\n",
    "    print(input_data)\n",
    "\n",
    "    # Iterate over the input data\n",
    "    for item in input_data:\n",
    "        # Generate the 'name' as a string combining 'exchange' and 'activity'\n",
    "        name = f\"{item['exchange']}  to {item['activity']}\"\n",
    "        result['groups']= ( 'M1 mix', 'M1 mix',   'M0 mix',\n",
    "                           'M0 mix', )\n",
    "        result['names'].append(name)\n",
    "        result['num_vars'] = len(input_data)\n",
    "        if item['value']== 0.5:\n",
    "            bounds = [item['value']-0.5, item['value']+0.5]\n",
    "        else:\n",
    "            bounds = [item['value']-item['value']*1, item['value']+item['value']*1]\n",
    "        result['bounds'].append(bounds)\n",
    "    \n",
    "    return result"
   ]
  },
  {
   "cell_type": "markdown",
   "id": "e8178ce8",
   "metadata": {},
   "source": [
    "### Define problem"
   ]
  },
  {
   "cell_type": "code",
   "execution_count": 96,
   "id": "7693ec66",
   "metadata": {},
   "outputs": [],
   "source": [
    "problem ={'names': [\"ILR_F1\", \"ILR_F2\"],\n",
    " 'num_vars': 2,\n",
    " 'bounds': [[-5,5], [-5,5]],\n",
    " 'sample_scaled': True,\n",
    " 'groups': ('M0', 'M1')\n",
    "         }"
   ]
  },
  {
   "cell_type": "markdown",
   "id": "3f4f0d9e",
   "metadata": {},
   "source": [
    "### Sample X"
   ]
  },
  {
   "cell_type": "code",
   "execution_count": 97,
   "id": "209bcfab",
   "metadata": {},
   "outputs": [],
   "source": [
    "import numpy as np\n",
    "\n",
    "def ilr_inverse(ilr_coords):\n",
    "    \"\"\"Inverse ALR transformation.\"\"\"\n",
    "    D = len(ilr_coords) + 1  # Since ALR uses D-1 coordinates\n",
    "    x = np.zeros(D)  # Array to store the original composition\n",
    "    \n",
    "    # Exponentiate the ALR coordinates and set the last component as 1\n",
    "    x[:-1] = np.exp(ilr_coords)\n",
    "    x[-1] = 1 # The last component is the reference, so we don't need to change it\n",
    "    \n",
    "    # Normalize the components to sum to 1\n",
    "    return x / np.sum(x)\n",
    "    "
   ]
  },
  {
   "cell_type": "code",
   "execution_count": 98,
   "id": "9f4f2705",
   "metadata": {},
   "outputs": [],
   "source": [
    "trajectories = [64, 128, 256,512, 1024]"
   ]
  },
  {
   "cell_type": "code",
   "execution_count": 99,
   "id": "7df4d866",
   "metadata": {
    "scrolled": true
   },
   "outputs": [],
   "source": [
    "from SALib.sample.sobol import sample\n",
    "X = {}\n",
    "X_without_zeros= {}\n",
    "ratio_samples = {}\n",
    "for trajectory in trajectories:\n",
    "    morris_samples = sample(problem, trajectory, calc_second_order=False)\n",
    "    samples_without_zeros = []\n",
    "    samples = []\n",
    "    for ilr_values in morris_samples:\n",
    "        # Split ILR values by group\n",
    "        ilr_m1 = ilr_values[:1]  # First two are fossil ILRs\n",
    "        ilr_m0 = ilr_values[1:]  # Last four are waste ILRs\n",
    "\n",
    "\n",
    "        m1_composition = ilr_inverse(ilr_m1)\n",
    "        m0_composition = ilr_inverse(ilr_m0)  \n",
    "        x = np.concatenate([m1_composition, m0_composition])\n",
    "        x = np.array(x).T\n",
    "        samples.append(x)\n",
    "    samples = pd.DataFrame(samples).T\n",
    "    samples_with_zeros = np.insert(samples, [0, 0], 0, axis=1)\n",
    "\n",
    "    X[trajectory] = np.array(samples_with_zeros)\n",
    "    X_without_zeros[trajectory] = np.array(samples)\n",
    "    ratio_samples[trajectory] = morris_samples"
   ]
  },
  {
   "cell_type": "code",
   "execution_count": 100,
   "id": "964659f7",
   "metadata": {},
   "outputs": [
    {
     "data": {
      "text/plain": [
       "258"
      ]
     },
     "execution_count": 100,
     "metadata": {},
     "output_type": "execute_result"
    }
   ],
   "source": [
    "len(X[64][0])"
   ]
  },
  {
   "cell_type": "markdown",
   "id": "13a509e1",
   "metadata": {},
   "source": [
    "# update value with dirichlet distribution"
   ]
  },
  {
   "cell_type": "markdown",
   "id": "6658908b",
   "metadata": {},
   "source": [
    "For each activity, the quantity (value) of exchanges is updated in `exc_ dict` so that they sum to 1. \n",
    "\n",
    "`ext_dict` is a dictionnary that stores exchange names, their indices, their quantity (value) and their source activity.\n",
    "\n",
    "The values summing to one are sampled using dirichlet distribution (N= mc) with different `concentration values`.\n",
    "For each `concentration value` a new `exc_dict` is stored.  "
   ]
  },
  {
   "cell_type": "code",
   "execution_count": 101,
   "id": "da4b0a4a",
   "metadata": {},
   "outputs": [
    {
     "name": "stdout",
     "output_type": "stream",
     "text": [
      "CPU times: total: 0 ns\n",
      "Wall time: 0 ns\n"
     ]
    }
   ],
   "source": [
    "%%time\n",
    "results_normalized ={}\n",
    "for trajectory, samples in X.items():\n",
    "    new_samples_normalized = [\n",
    "        {\n",
    "            'trajectory': trajectory,\n",
    "            'runs': len(X[trajectory][j]),\n",
    "            'indices': exc['tech_indices'],\n",
    "            'activity': exc['activity'],\n",
    "            'exchange': exc['exchange'],\n",
    "            'exc_database': exc['database'],\n",
    "            'act_database': exc['activity'][0],\n",
    "            'sample': X[trajectory][j],\n",
    "            'old_value': exc['value'],\n",
    "            #'index': i\n",
    "        }\n",
    "        for j, exc in enumerate(exchanges)\n",
    "]\n",
    "    results_normalized[trajectory] = new_samples_normalized\n",
    "\n",
    "\n",
    "#results_normalized.extend(new_samples_normalized)\n",
    "#all_results = pd.DataFrame(new_samples_normalized)"
   ]
  },
  {
   "cell_type": "markdown",
   "id": "3105cc2b",
   "metadata": {},
   "source": [
    "# create presamples"
   ]
  },
  {
   "cell_type": "markdown",
   "id": "fbb54c25",
   "metadata": {},
   "source": [
    "A presample is created for each `exc_dict`."
   ]
  },
  {
   "cell_type": "code",
   "execution_count": 102,
   "id": "69b84fc0",
   "metadata": {},
   "outputs": [
    {
     "name": "stdout",
     "output_type": "stream",
     "text": [
      "CPU times: total: 0 ns\n",
      "Wall time: 13.2 ms\n"
     ]
    }
   ],
   "source": [
    "%%time\n",
    "presamples_data_normalized = {}\n",
    "presamples_indices_normalized = {}  \n",
    "\n",
    "for trajectory, samples in results_normalized.items():  # Assuming results_normalized is a dictionary\n",
    "    presamples_data_normalized[trajectory] = []  # Initialize empty list for this trajectory\n",
    "    presamples_indices_normalized[trajectory] = []  # Initialize empty list for this trajectory\n",
    "    \n",
    "    for exc in samples:\n",
    "        process = bw.Database(exc['exc_database']).get(exc['exchange'][1])\n",
    "        activity = bw.Database(exc['act_database']).get(exc['activity'][1])\n",
    "        value = exc['sample']\n",
    "\n",
    "        data, indices = create_presamples(\n",
    "            activity=activity,\n",
    "            process=process,\n",
    "            exchanges={\n",
    "                \"new_exchange\": process,\n",
    "                \"new_value\": lambda process: value\n",
    "            }\n",
    "        )\n",
    "\n",
    "        presamples_data_normalized[trajectory].append(data)\n",
    "        presamples_indices_normalized[trajectory].append(indices)\n",
    "\n",
    "    presamples_data_normalized[trajectory] = np.vstack(presamples_data_normalized[trajectory])\n",
    "    #presamples_data_dict_normalized[trajectory] = presamples_data_normalized[trajectory]\n",
    "    #presamples_indices_dict_normalized[trajectory] = presamples_indices_normalized[trajectory]"
   ]
  },
  {
   "cell_type": "code",
   "execution_count": 103,
   "id": "7f6e41c1",
   "metadata": {},
   "outputs": [],
   "source": [
    "index_matrix_data = {}\n",
    "for trajectory, samples in results_normalized.items():\n",
    "    index_matrix_data_normalized = [\n",
    "        (globals()[f'presamples_data_normalized'][trajectory], \n",
    "         globals()[f'presamples_indices_normalized'][trajectory], 'technosphere')\n",
    "    ]\n",
    "    \n",
    "    index_id_normalized, index_path_normalized = ps.create_presamples_package(\n",
    "        matrix_data=index_matrix_data_normalized,\n",
    "    )\n",
    "    \n",
    "    index_matrix_data[trajectory] = {\n",
    "        'data': index_matrix_data_normalized,\n",
    "        'index_id': index_id_normalized,\n",
    "        'index_path': index_path_normalized\n",
    "    }\n",
    "    \n",
    "    globals()[f'index_id_normalized_{trajectory}'] = index_id_normalized\n",
    "    globals()[f'index_path_normalized_{trajectory}'] = index_path_normalized\n"
   ]
  },
  {
   "cell_type": "markdown",
   "id": "0341f2e6",
   "metadata": {},
   "source": [
    "# LCA calculations"
   ]
  },
  {
   "cell_type": "code",
   "execution_count": 104,
   "id": "58c9eeba",
   "metadata": {},
   "outputs": [],
   "source": [
    "presamples = [{\"name\": size, \"runs\": len(X[size][0]), \"path\": [globals()[f'index_path_normalized_{size}']], \"number\": \"all\"} for size in trajectories]"
   ]
  },
  {
   "cell_type": "code",
   "execution_count": 105,
   "id": "199c44eb",
   "metadata": {},
   "outputs": [
    {
     "name": "stdout",
     "output_type": "stream",
     "text": [
      "64\n",
      "128\n",
      "256\n",
      "512\n",
      "1024\n"
     ]
    }
   ],
   "source": [
    "for size in trajectories:\n",
    "    print(size)"
   ]
  },
  {
   "cell_type": "code",
   "execution_count": 106,
   "id": "98a8a215",
   "metadata": {
    "scrolled": true
   },
   "outputs": [
    {
     "name": "stdout",
     "output_type": "stream",
     "text": [
      "CPU times: total: 23.8 s\n",
      "Wall time: 13.6 s\n"
     ]
    }
   ],
   "source": [
    "%%time\n",
    "import time\n",
    "\n",
    "indices = []\n",
    "results = []\n",
    "final_activities = []\n",
    "component_order = []\n",
    "\n",
    "results_by_name = {}\n",
    "\n",
    "for presample in presamples:\n",
    "    start_time = time.time()\n",
    "\n",
    "    clca = MyMonteCarloLCA(\n",
    "        all_demand_dict,\n",
    "        method=methods[0],\n",
    "        presamples=presample[\"path\"],\n",
    "        final_activities=final_activities,\n",
    "        database_name=db,\n",
    "        bio_indices=None,\n",
    "        tech_indices=None,\n",
    "        include_only_specific_bio_uncertainty=True,\n",
    "        include_only_specific_exc_uncertainty=True,\n",
    "    )\n",
    "\n",
    "    next(clca)\n",
    "\n",
    "    temp_results = collect_results(\n",
    "        clca,\n",
    "        all_demands,\n",
    "        final_activities,\n",
    "        len(X_without_zeros[presample[\"name\"]][0]),\n",
    "        methods[0],\n",
    "        d_label,\n",
    "        component_order,\n",
    "        database_name=db,\n",
    "        bio_indices=None,\n",
    "        tech_indices=None,\n",
    "        include_only_specific_bio_uncertainty=True,\n",
    "        include_only_specific_exc_uncertainty=True,\n",
    "    )\n",
    "\n",
    "    end_time = time.time()\n",
    "    runtime = end_time - start_time\n",
    "\n",
    "    temp_results[\"category\"] = presample[\"name\"]\n",
    "    temp_results[\"runtime\"] = runtime \n",
    "    temp_results[\"runs\"] = presample[\"runs\"]\n",
    "\n",
    "    results_by_name[presample[\"name\"]] = temp_results\n",
    "\n",
    "\n",
    "morris_results = pd.concat(results_by_name)"
   ]
  },
  {
   "cell_type": "code",
   "execution_count": 107,
   "id": "e830482f",
   "metadata": {},
   "outputs": [],
   "source": [
    "morris_results.to_csv(r'..\\..\\GSA_markets\\results\\Simple_global_scores_sobol.csv', index=False)"
   ]
  },
  {
   "cell_type": "code",
   "execution_count": 108,
   "id": "1573ce1e",
   "metadata": {},
   "outputs": [
    {
     "data": {
      "text/html": [
       "<div>\n",
       "<style scoped>\n",
       "    .dataframe tbody tr th:only-of-type {\n",
       "        vertical-align: middle;\n",
       "    }\n",
       "\n",
       "    .dataframe tbody tr th {\n",
       "        vertical-align: top;\n",
       "    }\n",
       "\n",
       "    .dataframe thead th {\n",
       "        text-align: right;\n",
       "    }\n",
       "</style>\n",
       "<table border=\"1\" class=\"dataframe\">\n",
       "  <thead>\n",
       "    <tr style=\"text-align: right;\">\n",
       "      <th></th>\n",
       "      <th></th>\n",
       "      <th>scenario</th>\n",
       "      <th>method</th>\n",
       "      <th>iteration</th>\n",
       "      <th>score</th>\n",
       "      <th>category</th>\n",
       "      <th>runtime</th>\n",
       "      <th>runs</th>\n",
       "    </tr>\n",
       "  </thead>\n",
       "  <tbody>\n",
       "    <tr>\n",
       "      <th rowspan=\"5\" valign=\"top\">64</th>\n",
       "      <th>0</th>\n",
       "      <td>fu</td>\n",
       "      <td>climate change</td>\n",
       "      <td>0</td>\n",
       "      <td>1.232702</td>\n",
       "      <td>64</td>\n",
       "      <td>0.705716</td>\n",
       "      <td>258</td>\n",
       "    </tr>\n",
       "    <tr>\n",
       "      <th>1</th>\n",
       "      <td>fu</td>\n",
       "      <td>climate change</td>\n",
       "      <td>1</td>\n",
       "      <td>11.595396</td>\n",
       "      <td>64</td>\n",
       "      <td>0.705716</td>\n",
       "      <td>258</td>\n",
       "    </tr>\n",
       "    <tr>\n",
       "      <th>2</th>\n",
       "      <td>fu</td>\n",
       "      <td>climate change</td>\n",
       "      <td>2</td>\n",
       "      <td>3.351874</td>\n",
       "      <td>64</td>\n",
       "      <td>0.705716</td>\n",
       "      <td>258</td>\n",
       "    </tr>\n",
       "    <tr>\n",
       "      <th>3</th>\n",
       "      <td>fu</td>\n",
       "      <td>climate change</td>\n",
       "      <td>3</td>\n",
       "      <td>9.657323</td>\n",
       "      <td>64</td>\n",
       "      <td>0.705716</td>\n",
       "      <td>258</td>\n",
       "    </tr>\n",
       "    <tr>\n",
       "      <th>4</th>\n",
       "      <td>fu</td>\n",
       "      <td>climate change</td>\n",
       "      <td>4</td>\n",
       "      <td>10.292116</td>\n",
       "      <td>64</td>\n",
       "      <td>0.705716</td>\n",
       "      <td>258</td>\n",
       "    </tr>\n",
       "    <tr>\n",
       "      <th>...</th>\n",
       "      <th>...</th>\n",
       "      <td>...</td>\n",
       "      <td>...</td>\n",
       "      <td>...</td>\n",
       "      <td>...</td>\n",
       "      <td>...</td>\n",
       "      <td>...</td>\n",
       "      <td>...</td>\n",
       "    </tr>\n",
       "    <tr>\n",
       "      <th rowspan=\"5\" valign=\"top\">1024</th>\n",
       "      <th>4091</th>\n",
       "      <td>fu</td>\n",
       "      <td>climate change</td>\n",
       "      <td>4091</td>\n",
       "      <td>10.978399</td>\n",
       "      <td>1024</td>\n",
       "      <td>6.565997</td>\n",
       "      <td>4098</td>\n",
       "    </tr>\n",
       "    <tr>\n",
       "      <th>4092</th>\n",
       "      <td>fu</td>\n",
       "      <td>climate change</td>\n",
       "      <td>4092</td>\n",
       "      <td>10.510948</td>\n",
       "      <td>1024</td>\n",
       "      <td>6.565997</td>\n",
       "      <td>4098</td>\n",
       "    </tr>\n",
       "    <tr>\n",
       "      <th>4093</th>\n",
       "      <td>fu</td>\n",
       "      <td>climate change</td>\n",
       "      <td>4093</td>\n",
       "      <td>10.378885</td>\n",
       "      <td>1024</td>\n",
       "      <td>6.565997</td>\n",
       "      <td>4098</td>\n",
       "    </tr>\n",
       "    <tr>\n",
       "      <th>4094</th>\n",
       "      <td>fu</td>\n",
       "      <td>climate change</td>\n",
       "      <td>4094</td>\n",
       "      <td>10.197864</td>\n",
       "      <td>1024</td>\n",
       "      <td>6.565997</td>\n",
       "      <td>4098</td>\n",
       "    </tr>\n",
       "    <tr>\n",
       "      <th>4095</th>\n",
       "      <td>fu</td>\n",
       "      <td>climate change</td>\n",
       "      <td>4095</td>\n",
       "      <td>0.000000</td>\n",
       "      <td>1024</td>\n",
       "      <td>6.565997</td>\n",
       "      <td>4098</td>\n",
       "    </tr>\n",
       "  </tbody>\n",
       "</table>\n",
       "<p>7936 rows × 7 columns</p>\n",
       "</div>"
      ],
      "text/plain": [
       "          scenario          method  iteration      score  category   runtime  \\\n",
       "64   0          fu  climate change          0   1.232702        64  0.705716   \n",
       "     1          fu  climate change          1  11.595396        64  0.705716   \n",
       "     2          fu  climate change          2   3.351874        64  0.705716   \n",
       "     3          fu  climate change          3   9.657323        64  0.705716   \n",
       "     4          fu  climate change          4  10.292116        64  0.705716   \n",
       "...            ...             ...        ...        ...       ...       ...   \n",
       "1024 4091       fu  climate change       4091  10.978399      1024  6.565997   \n",
       "     4092       fu  climate change       4092  10.510948      1024  6.565997   \n",
       "     4093       fu  climate change       4093  10.378885      1024  6.565997   \n",
       "     4094       fu  climate change       4094  10.197864      1024  6.565997   \n",
       "     4095       fu  climate change       4095   0.000000      1024  6.565997   \n",
       "\n",
       "           runs  \n",
       "64   0      258  \n",
       "     1      258  \n",
       "     2      258  \n",
       "     3      258  \n",
       "     4      258  \n",
       "...         ...  \n",
       "1024 4091  4098  \n",
       "     4092  4098  \n",
       "     4093  4098  \n",
       "     4094  4098  \n",
       "     4095  4098  \n",
       "\n",
       "[7936 rows x 7 columns]"
      ]
     },
     "execution_count": 108,
     "metadata": {},
     "output_type": "execute_result"
    }
   ],
   "source": [
    "morris_results"
   ]
  },
  {
   "cell_type": "markdown",
   "id": "ad3684de",
   "metadata": {},
   "source": [
    "# Sensitivity analysis"
   ]
  },
  {
   "cell_type": "code",
   "execution_count": 109,
   "id": "190c62e5",
   "metadata": {},
   "outputs": [],
   "source": [
    "from SALib.analyze.sobol import analyze\n",
    "SA_results={}\n",
    "for trajectory in trajectories:\n",
    "    LCIA = morris_results[morris_results['category']== trajectory]\n",
    "    SA_normalized = analyze(problem, np.array(LCIA['score']), \n",
    "                            conf_level=0.95,  \n",
    "                            print_to_console=False, \n",
    "                            calc_second_order=False,\n",
    "                           \n",
    "          )\n",
    "\n",
    "    SA_results[trajectory] = pd.DataFrame(SA_normalized)"
   ]
  },
  {
   "cell_type": "code",
   "execution_count": 110,
   "id": "cd4f5989",
   "metadata": {},
   "outputs": [
    {
     "data": {
      "text/plain": [
       "{'names': ['ILR_F1', 'ILR_F2'],\n",
       " 'num_vars': 2,\n",
       " 'bounds': [[-5, 5], [-5, 5]],\n",
       " 'sample_scaled': True,\n",
       " 'groups': ('M0', 'M1')}"
      ]
     },
     "execution_count": 110,
     "metadata": {},
     "output_type": "execute_result"
    }
   ],
   "source": [
    "problem"
   ]
  },
  {
   "cell_type": "code",
   "execution_count": 111,
   "id": "fd4548cb",
   "metadata": {},
   "outputs": [],
   "source": [
    "for key in SA_results:\n",
    "    SA_results[key]['names'] = ['M0', 'M1']"
   ]
  },
  {
   "cell_type": "code",
   "execution_count": 112,
   "id": "90c19bb9",
   "metadata": {},
   "outputs": [],
   "source": [
    "SA_results_df = pd.concat([df.assign(index=k) for k, df in SA_results.items()])"
   ]
  },
  {
   "cell_type": "code",
   "execution_count": 113,
   "id": "4d534c4b",
   "metadata": {},
   "outputs": [
    {
     "data": {
      "text/html": [
       "<div>\n",
       "<style scoped>\n",
       "    .dataframe tbody tr th:only-of-type {\n",
       "        vertical-align: middle;\n",
       "    }\n",
       "\n",
       "    .dataframe tbody tr th {\n",
       "        vertical-align: top;\n",
       "    }\n",
       "\n",
       "    .dataframe thead th {\n",
       "        text-align: right;\n",
       "    }\n",
       "</style>\n",
       "<table border=\"1\" class=\"dataframe\">\n",
       "  <thead>\n",
       "    <tr style=\"text-align: right;\">\n",
       "      <th></th>\n",
       "      <th>S1</th>\n",
       "      <th>S1_conf</th>\n",
       "      <th>ST</th>\n",
       "      <th>ST_conf</th>\n",
       "      <th>names</th>\n",
       "      <th>index</th>\n",
       "    </tr>\n",
       "  </thead>\n",
       "  <tbody>\n",
       "    <tr>\n",
       "      <th>0</th>\n",
       "      <td>0.335953</td>\n",
       "      <td>0.225791</td>\n",
       "      <td>0.989918</td>\n",
       "      <td>0.326018</td>\n",
       "      <td>M0</td>\n",
       "      <td>64</td>\n",
       "    </tr>\n",
       "    <tr>\n",
       "      <th>1</th>\n",
       "      <td>0.049643</td>\n",
       "      <td>0.177233</td>\n",
       "      <td>0.366799</td>\n",
       "      <td>0.121663</td>\n",
       "      <td>M1</td>\n",
       "      <td>64</td>\n",
       "    </tr>\n",
       "    <tr>\n",
       "      <th>0</th>\n",
       "      <td>0.413472</td>\n",
       "      <td>0.189987</td>\n",
       "      <td>1.008373</td>\n",
       "      <td>0.233921</td>\n",
       "      <td>M0</td>\n",
       "      <td>128</td>\n",
       "    </tr>\n",
       "    <tr>\n",
       "      <th>1</th>\n",
       "      <td>-0.020691</td>\n",
       "      <td>0.158961</td>\n",
       "      <td>0.377634</td>\n",
       "      <td>0.089793</td>\n",
       "      <td>M1</td>\n",
       "      <td>128</td>\n",
       "    </tr>\n",
       "    <tr>\n",
       "      <th>0</th>\n",
       "      <td>-0.427278</td>\n",
       "      <td>0.131384</td>\n",
       "      <td>0.985852</td>\n",
       "      <td>0.153886</td>\n",
       "      <td>M0</td>\n",
       "      <td>256</td>\n",
       "    </tr>\n",
       "    <tr>\n",
       "      <th>1</th>\n",
       "      <td>-0.000718</td>\n",
       "      <td>0.103634</td>\n",
       "      <td>0.362425</td>\n",
       "      <td>0.065707</td>\n",
       "      <td>M1</td>\n",
       "      <td>256</td>\n",
       "    </tr>\n",
       "    <tr>\n",
       "      <th>0</th>\n",
       "      <td>-0.337062</td>\n",
       "      <td>0.086095</td>\n",
       "      <td>1.004867</td>\n",
       "      <td>0.118808</td>\n",
       "      <td>M0</td>\n",
       "      <td>512</td>\n",
       "    </tr>\n",
       "    <tr>\n",
       "      <th>1</th>\n",
       "      <td>0.005664</td>\n",
       "      <td>0.076338</td>\n",
       "      <td>0.374794</td>\n",
       "      <td>0.043866</td>\n",
       "      <td>M1</td>\n",
       "      <td>512</td>\n",
       "    </tr>\n",
       "    <tr>\n",
       "      <th>0</th>\n",
       "      <td>0.397873</td>\n",
       "      <td>0.065852</td>\n",
       "      <td>0.999313</td>\n",
       "      <td>0.076199</td>\n",
       "      <td>M0</td>\n",
       "      <td>1024</td>\n",
       "    </tr>\n",
       "    <tr>\n",
       "      <th>1</th>\n",
       "      <td>-0.001134</td>\n",
       "      <td>0.053838</td>\n",
       "      <td>0.377435</td>\n",
       "      <td>0.029416</td>\n",
       "      <td>M1</td>\n",
       "      <td>1024</td>\n",
       "    </tr>\n",
       "  </tbody>\n",
       "</table>\n",
       "</div>"
      ],
      "text/plain": [
       "         S1   S1_conf        ST   ST_conf names  index\n",
       "0  0.335953  0.225791  0.989918  0.326018    M0     64\n",
       "1  0.049643  0.177233  0.366799  0.121663    M1     64\n",
       "0  0.413472  0.189987  1.008373  0.233921    M0    128\n",
       "1 -0.020691  0.158961  0.377634  0.089793    M1    128\n",
       "0 -0.427278  0.131384  0.985852  0.153886    M0    256\n",
       "1 -0.000718  0.103634  0.362425  0.065707    M1    256\n",
       "0 -0.337062  0.086095  1.004867  0.118808    M0    512\n",
       "1  0.005664  0.076338  0.374794  0.043866    M1    512\n",
       "0  0.397873  0.065852  0.999313  0.076199    M0   1024\n",
       "1 -0.001134  0.053838  0.377435  0.029416    M1   1024"
      ]
     },
     "execution_count": 113,
     "metadata": {},
     "output_type": "execute_result"
    }
   ],
   "source": [
    "SA_results_df"
   ]
  },
  {
   "cell_type": "code",
   "execution_count": 114,
   "id": "5516c08f",
   "metadata": {},
   "outputs": [],
   "source": [
    "SA_results_df.to_csv(r'..\\..\\GSA_markets\\results\\Simple_global_results_sobol.csv', index=False)"
   ]
  },
  {
   "cell_type": "markdown",
   "id": "14c996a1",
   "metadata": {},
   "source": [
    "# Plots"
   ]
  },
  {
   "cell_type": "code",
   "execution_count": 115,
   "id": "278c4ddf",
   "metadata": {},
   "outputs": [],
   "source": [
    "import matplotlib as mpl\n",
    "import seaborn.objects as so\n",
    "import matplotlib.pyplot as plt"
   ]
  },
  {
   "cell_type": "code",
   "execution_count": 116,
   "id": "fc868664",
   "metadata": {},
   "outputs": [
    {
     "data": {
      "image/png": "[encoded data removed]",
      "text/plain": [
       "<seaborn._core.plot.Plot at 0x220d1e30c40>"
      ]
     },
     "execution_count": 116,
     "metadata": {
      "image/png": {
       "height": 378.25,
       "width": 509.15
      }
     },
     "output_type": "execute_result"
    }
   ],
   "source": [
    "p = (\n",
    "    so.Plot(morris_results, x=\"score\")\n",
    "    .add(so.Bars(), so.Hist())\n",
    " #   .layout(size=(3, 2))\n",
    ")\n",
    "p.label(x=\"Climate change impact (GWP / kg CO$_{2e}$)\", y=\"Climate change impact (GWP / kg CO$_{2e}$)\", color=\"\")"
   ]
  },
  {
   "cell_type": "code",
   "execution_count": null,
   "id": "c5ab59d2",
   "metadata": {},
   "outputs": [],
   "source": []
  },
  {
   "cell_type": "code",
   "execution_count": null,
   "id": "d6349e48",
   "metadata": {},
   "outputs": [],
   "source": []
  }
 ],
 "metadata": {
  "kernelspec": {
   "display_name": "ab",
   "language": "python",
   "name": "ab"
  },
  "language_info": {
   "codemirror_mode": {
    "name": "ipython",
    "version": 3
   },
   "file_extension": ".py",
   "mimetype": "text/x-python",
   "name": "python",
   "nbconvert_exporter": "python",
   "pygments_lexer": "ipython3",
   "version": "3.9.13"
  }
 },
 "nbformat": 4,
 "nbformat_minor": 5
}
