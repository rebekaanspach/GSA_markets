{
 "cells": [
  {
   "cell_type": "markdown",
   "id": "dddd1022",
   "metadata": {},
   "source": [
    "# Uncertainty on market shares"
   ]
  },
  {
   "cell_type": "code",
   "execution_count": 126,
   "id": "8970c3ba",
   "metadata": {},
   "outputs": [
    {
     "data": {
      "text/plain": [
       "(0, 2, 6)"
      ]
     },
     "execution_count": 126,
     "metadata": {},
     "output_type": "execute_result"
    }
   ],
   "source": [
    "import brightway2 as bw\n",
    "import bw2calc as bc\n",
    "import bw2data as bd\n",
    "import numpy as np\n",
    "import pandas as pd\n",
    "import presamples as ps\n",
    "import scipy\n",
    "import scipy.stats as stats\n",
    "from functions import make_dirichlet_distribution, get_elec_input, create_presamples, query_for_activities\n",
    "ps.__version__"
   ]
  },
  {
   "cell_type": "code",
   "execution_count": 127,
   "id": "c5eaf8e1",
   "metadata": {},
   "outputs": [],
   "source": [
    "bw.projects.set_current(\"UK-wood-clca\")\n",
    "cutoff391 = bw.Database('cutoff-3.9.1')\n",
    "\n",
    "test = bw.Database('mydb3')\n",
    "\n",
    "fu = test.get('0cf1f43a31e143b5bc5c06f8979f08b8')\n",
    "\n",
    "\n",
    "all_demands = [{fu: 1}]\n",
    "d_label = [\"fu\"]\n",
    "\n",
    "methods = [\n",
    "     ('ReCiPe 2016 v1.03, midpoint (H)', 'climate change', 'global warming potential (GWP1000)'), \n",
    "]"
   ]
  },
  {
   "cell_type": "code",
   "execution_count": 128,
   "id": "011ab5f9",
   "metadata": {},
   "outputs": [
    {
     "data": {
      "text/plain": [
       "'market 0' (unit, GLO, None)"
      ]
     },
     "execution_count": 128,
     "metadata": {},
     "output_type": "execute_result"
    }
   ],
   "source": [
    "fu"
   ]
  },
  {
   "cell_type": "code",
   "execution_count": 129,
   "id": "fae3cd01",
   "metadata": {},
   "outputs": [
    {
     "data": {
      "text/plain": [
       "[]"
      ]
     },
     "execution_count": 129,
     "metadata": {},
     "output_type": "execute_result"
    }
   ],
   "source": [
    "fu.get('classifications', [])"
   ]
  },
  {
   "cell_type": "markdown",
   "id": "51f58ac3",
   "metadata": {},
   "source": [
    "# Initialising monte calro lca"
   ]
  },
  {
   "cell_type": "code",
   "execution_count": 130,
   "id": "886e9dd6",
   "metadata": {},
   "outputs": [],
   "source": [
    "from bw_helpers import sample_results, MyMonteCarloLCA, collect_results"
   ]
  },
  {
   "cell_type": "code",
   "execution_count": 131,
   "id": "9350ac2e",
   "metadata": {},
   "outputs": [
    {
     "name": "stdout",
     "output_type": "stream",
     "text": [
      "CPU times: total: 156 ms\n",
      "Wall time: 162 ms\n"
     ]
    },
    {
     "data": {
      "text/plain": [
       "10.025000000372529"
      ]
     },
     "execution_count": 131,
     "metadata": {},
     "output_type": "execute_result"
    }
   ],
   "source": [
    "%%time\n",
    "all_demand_dict = all_demands[0].copy()\n",
    "for other_demand in all_demands[1:]:\n",
    "    all_demand_dict.update(other_demand)\n",
    "\n",
    "db = ['mydb']\n",
    "\n",
    "indices = [1,1]\n",
    "\n",
    "clca = MyMonteCarloLCA(all_demand_dict, \n",
    "                               method=methods[0], \n",
    "                               #presamples = presample,\n",
    "                               final_activities=[],\n",
    "                               database_name = db, \n",
    "                               tech_indices=None,\n",
    "                               bio_indices=None,\n",
    "                               include_only_specific_bio_uncertainty= True, \n",
    "                               include_only_specific_exc_uncertainty = True,\n",
    "                               seed =False)\n",
    "next(clca)\n"
   ]
  },
  {
   "cell_type": "markdown",
   "id": "71b9674c",
   "metadata": {},
   "source": [
    "# Load results of recursive calulcation"
   ]
  },
  {
   "cell_type": "code",
   "execution_count": 132,
   "id": "572eb5db",
   "metadata": {},
   "outputs": [],
   "source": [
    "indices = pd.read_csv(\"presamples/test_indices.csv\")\n",
    "#categories = pd.read_csv(\"presamples/soybean_categories.csv\")"
   ]
  },
  {
   "cell_type": "code",
   "execution_count": 133,
   "id": "8767a7da",
   "metadata": {},
   "outputs": [],
   "source": [
    "indices_list = list(indices.itertuples(index=False, name=None))"
   ]
  },
  {
   "cell_type": "code",
   "execution_count": 134,
   "id": "180ae602",
   "metadata": {},
   "outputs": [],
   "source": [
    "duplicate_activities_removed = list(set(indices_list))"
   ]
  },
  {
   "cell_type": "code",
   "execution_count": 135,
   "id": "4d41b2e2",
   "metadata": {},
   "outputs": [],
   "source": [
    "activities =[]\n",
    "for i in range(len(duplicate_activities_removed)):\n",
    "    db = bw.Database(duplicate_activities_removed[i][0])\n",
    "    activity = db.get(duplicate_activities_removed[i][1])\n",
    "    activities.append(activity)"
   ]
  },
  {
   "cell_type": "code",
   "execution_count": 136,
   "id": "cb2bb1da",
   "metadata": {},
   "outputs": [
    {
     "data": {
      "text/plain": [
       "2"
      ]
     },
     "execution_count": 136,
     "metadata": {},
     "output_type": "execute_result"
    }
   ],
   "source": [
    "len(activities)"
   ]
  },
  {
   "cell_type": "code",
   "execution_count": 137,
   "id": "33fac8fb",
   "metadata": {},
   "outputs": [
    {
     "data": {
      "text/plain": [
       "['market 1' (unit, GLO, None), 'market 0' (unit, GLO, None)]"
      ]
     },
     "execution_count": 137,
     "metadata": {},
     "output_type": "execute_result"
    }
   ],
   "source": [
    "activities"
   ]
  },
  {
   "cell_type": "markdown",
   "id": "be677b20",
   "metadata": {},
   "source": [
    "# Query exchanges"
   ]
  },
  {
   "cell_type": "markdown",
   "id": "f101d139",
   "metadata": {},
   "source": [
    "Find all the exchanges of the selected activities. Filter and exclude any exchange that should not be sampled."
   ]
  },
  {
   "cell_type": "code",
   "execution_count": 138,
   "id": "e0fcf08e",
   "metadata": {},
   "outputs": [
    {
     "data": {
      "text/plain": [
       "6"
      ]
     },
     "execution_count": 138,
     "metadata": {},
     "output_type": "execute_result"
    }
   ],
   "source": [
    "exchanges= MyMonteCarloLCA.get_exchanges_of_activity(clca, activities)\n",
    "len(exchanges)"
   ]
  },
  {
   "cell_type": "code",
   "execution_count": 139,
   "id": "b70613bf",
   "metadata": {},
   "outputs": [
    {
     "data": {
      "text/plain": [
       "6"
      ]
     },
     "execution_count": 139,
     "metadata": {},
     "output_type": "execute_result"
    }
   ],
   "source": [
    "exchanges_units_sorted = [exc for exc in exchanges if exc['exchange']['unit'] == exc['activity']['unit']]\n",
    "len(exchanges_units_sorted)"
   ]
  },
  {
   "cell_type": "code",
   "execution_count": 140,
   "id": "5a39f220",
   "metadata": {},
   "outputs": [
    {
     "data": {
      "text/plain": [
       "4"
      ]
     },
     "execution_count": 140,
     "metadata": {},
     "output_type": "execute_result"
    }
   ],
   "source": [
    "exchanges = [exc for exc in exchanges_units_sorted if exc['tech_indices'][0] != exc['tech_indices'][1] ]\n",
    "len(exchanges)"
   ]
  },
  {
   "cell_type": "code",
   "execution_count": 142,
   "id": "78fe0c8a",
   "metadata": {},
   "outputs": [],
   "source": [
    "activities =[]\n",
    "for exc in exchanges:\n",
    "    activities.append(exc[\"activity\"])"
   ]
  },
  {
   "cell_type": "markdown",
   "id": "b892a39b",
   "metadata": {},
   "source": [
    "## Morris sampling"
   ]
  },
  {
   "cell_type": "code",
   "execution_count": 145,
   "id": "047a55e6",
   "metadata": {},
   "outputs": [],
   "source": [
    "activity_to_group = {}\n",
    "group_counter = 1\n",
    "\n",
    "for entry in exchanges:\n",
    "    activity = entry['activity']\n",
    "    if activity not in activity_to_group:\n",
    "        activity_to_group[activity] = group_counter\n",
    "        group_counter += 1\n",
    "    # Add the group field to the entry\n",
    "    entry['group'] = activity_to_group[activity]\n"
   ]
  },
  {
   "cell_type": "code",
   "execution_count": 146,
   "id": "400914e8",
   "metadata": {},
   "outputs": [],
   "source": [
    "def define_problem(input_data, indices, label):\n",
    "    results = {}\n",
    "    for i, l in enumerate(label):\n",
    "        result = {\n",
    "            'names': [],\n",
    "            'num_vars': len(input_data),\n",
    "            'bounds': [],\n",
    "            'sample_scaled': True,\n",
    "            'groups': ['M1 mix', 'M1 mix', 'M0 mix', 'M0 mix']\n",
    "        }\n",
    "\n",
    "        for item in input_data:\n",
    "            name = f\"'{item['exchange']}' (unit, GLO, None) to '{item['activity']}' (unit, GLO, None)\"\n",
    "            result['names'].append(name)\n",
    "\n",
    "            if item['tech_indices'] in indices[i]:  # Match corresponding indices set\n",
    "                bounds = [0.0, 1.0]\n",
    "            else:\n",
    "                bounds = [0.5, 0.500001]  # Ensure consistent list length\n",
    "\n",
    "            result['bounds'].append(bounds)\n",
    "\n",
    "        results[l] = result\n",
    "\n",
    "    return results"
   ]
  },
  {
   "cell_type": "markdown",
   "id": "e8178ce8",
   "metadata": {},
   "source": [
    "### Define problem"
   ]
  },
  {
   "cell_type": "code",
   "execution_count": 147,
   "id": "f5fdac79",
   "metadata": {},
   "outputs": [],
   "source": [
    "trajectories=['M0','M1']\n",
    "problem = define_problem(exchanges, indices=[[[4,1], [8,1]],[[5,3], [6,3]]], label=trajectories )"
   ]
  },
  {
   "cell_type": "code",
   "execution_count": 148,
   "id": "7693ec66",
   "metadata": {},
   "outputs": [
    {
     "data": {
      "text/plain": [
       "{'M0': {'names': [\"''process 3' (unit, GLO, None)' (unit, GLO, None) to ''market 1' (unit, GLO, None)' (unit, GLO, None)\",\n",
       "   \"''process 2' (unit, GLO, None)' (unit, GLO, None) to ''market 1' (unit, GLO, None)' (unit, GLO, None)\",\n",
       "   \"''process 4' (unit, GLO, None)' (unit, GLO, None) to ''market 0' (unit, GLO, None)' (unit, GLO, None)\",\n",
       "   \"''process 1' (unit, GLO, None)' (unit, GLO, None) to ''market 0' (unit, GLO, None)' (unit, GLO, None)\"],\n",
       "  'num_vars': 4,\n",
       "  'bounds': [[0.5, 0.500001], [0.5, 0.500001], [0.0, 1.0], [0.0, 1.0]],\n",
       "  'sample_scaled': True,\n",
       "  'groups': ['M1 mix', 'M1 mix', 'M0 mix', 'M0 mix']},\n",
       " 'M1': {'names': [\"''process 3' (unit, GLO, None)' (unit, GLO, None) to ''market 1' (unit, GLO, None)' (unit, GLO, None)\",\n",
       "   \"''process 2' (unit, GLO, None)' (unit, GLO, None) to ''market 1' (unit, GLO, None)' (unit, GLO, None)\",\n",
       "   \"''process 4' (unit, GLO, None)' (unit, GLO, None) to ''market 0' (unit, GLO, None)' (unit, GLO, None)\",\n",
       "   \"''process 1' (unit, GLO, None)' (unit, GLO, None) to ''market 0' (unit, GLO, None)' (unit, GLO, None)\"],\n",
       "  'num_vars': 4,\n",
       "  'bounds': [[0.0, 1.0], [0.0, 1.0], [0.5, 0.500001], [0.5, 0.500001]],\n",
       "  'sample_scaled': True,\n",
       "  'groups': ['M1 mix', 'M1 mix', 'M0 mix', 'M0 mix']}}"
      ]
     },
     "execution_count": 148,
     "metadata": {},
     "output_type": "execute_result"
    }
   ],
   "source": [
    "problem"
   ]
  },
  {
   "cell_type": "markdown",
   "id": "3f4f0d9e",
   "metadata": {},
   "source": [
    "### Sample X"
   ]
  },
  {
   "cell_type": "code",
   "execution_count": 150,
   "id": "209bcfab",
   "metadata": {},
   "outputs": [],
   "source": [
    "def normalize_group(x):\n",
    "    total_sum = x.sum()\n",
    "    if len(x)>1:\n",
    "        if total_sum == 0:\n",
    "            return pd.Series(1 / len(x), index=x.index)  # Assign equal contribution\n",
    "        else:\n",
    "            return x / total_sum\n",
    "    else: \n",
    "        return x\n",
    "    "
   ]
  },
  {
   "cell_type": "code",
   "execution_count": 151,
   "id": "9f4f2705",
   "metadata": {},
   "outputs": [],
   "source": [
    "N= 300"
   ]
  },
  {
   "cell_type": "code",
   "execution_count": 152,
   "id": "7df4d866",
   "metadata": {
    "scrolled": true
   },
   "outputs": [],
   "source": [
    "from SALib.sample.morris import sample\n",
    "\n",
    "X = {} \n",
    "samples_dict = {}\n",
    "samples_without_norm = {}\n",
    "#range(10, 100, 10)\n",
    "\n",
    "for trajectory in trajectories:\n",
    "    x = sample(problem[trajectory], N, num_levels=4)#calc_second_order=False)\n",
    "\n",
    "    samples = pd.DataFrame(x).T\n",
    "    samples_without_norm[trajectory] =samples.copy()\n",
    "    samples['groups'] = pd.Series(problem[trajectory]['names']).str.split(\" to \").str[-1]#assign market to be used during normalisation\n",
    "    \n",
    "    \n",
    "    value_columns = samples.columns.difference(['groups'])\n",
    "    \n",
    "    samples[value_columns] = samples.groupby('groups')[value_columns].transform(normalize_group)\n",
    "    samples= samples.drop(columns=['groups'])\n",
    "    samples = np.array(samples)\n",
    "\n",
    "    samples_normalized_with_zeros = np.insert(samples, 0, 0, axis=1)#initialisation problem\n",
    "    samples_normalized_with_zeros = np.insert(samples_normalized_with_zeros, 0, 0, axis=1)\n",
    "\n",
    "    X[trajectory] = samples_normalized_with_zeros\n",
    "    samples_dict[trajectory] =samples\n"
   ]
  },
  {
   "cell_type": "code",
   "execution_count": 153,
   "id": "054956eb",
   "metadata": {
    "scrolled": true
   },
   "outputs": [],
   "source": [
    "#results_normalized =[]\n",
    "#for trajectory, samples in X.items():\n",
    "#    print(trajectory)"
   ]
  },
  {
   "cell_type": "markdown",
   "id": "13a509e1",
   "metadata": {},
   "source": [
    "# update value with dirichlet distribution"
   ]
  },
  {
   "cell_type": "markdown",
   "id": "6658908b",
   "metadata": {},
   "source": [
    "For each activity, the quantity (value) of exchanges is updated in `exc_ dict` so that they sum to 1. \n",
    "\n",
    "`ext_dict` is a dictionnary that stores exchange names, their indices, their quantity (value) and their source activity.\n",
    "\n",
    "The values summing to one are sampled using dirichlet distribution (N= mc) with different `concentration values`.\n",
    "For each `concentration value` a new `exc_dict` is stored.  "
   ]
  },
  {
   "cell_type": "code",
   "execution_count": 154,
   "id": "da4b0a4a",
   "metadata": {},
   "outputs": [
    {
     "name": "stdout",
     "output_type": "stream",
     "text": [
      "CPU times: total: 0 ns\n",
      "Wall time: 0 ns\n"
     ]
    }
   ],
   "source": [
    "%%time\n",
    "results_normalized ={}\n",
    "for trajectory, samples in X.items():\n",
    "    new_samples_normalized = [\n",
    "        {\n",
    "            'trajectory': trajectory,\n",
    "            'runs': len(X[trajectory][j]),\n",
    "            'indices': exc['tech_indices'],\n",
    "            'activity': exc['activity'],\n",
    "            'exchange': exc['exchange'],\n",
    "            'exc_database': exc['database'],\n",
    "            'act_database': exc['activity'][0],\n",
    "            'sample': X[trajectory][j],\n",
    "            'old_value': exc['value'],\n",
    "            #'index': i\n",
    "        }\n",
    "        for j, exc in enumerate(exchanges)\n",
    "]\n",
    "    results_normalized[trajectory] = new_samples_normalized\n",
    "\n",
    "\n",
    "#results_normalized.extend(new_samples_normalized)\n",
    "#all_results = pd.DataFrame(new_samples_normalized)"
   ]
  },
  {
   "cell_type": "markdown",
   "id": "3105cc2b",
   "metadata": {},
   "source": [
    "# create presamples"
   ]
  },
  {
   "cell_type": "markdown",
   "id": "fbb54c25",
   "metadata": {},
   "source": [
    "A presample is created for each `exc_dict`."
   ]
  },
  {
   "cell_type": "code",
   "execution_count": 155,
   "id": "69b84fc0",
   "metadata": {},
   "outputs": [
    {
     "name": "stdout",
     "output_type": "stream",
     "text": [
      "CPU times: total: 31.2 ms\n",
      "Wall time: 8.15 ms\n"
     ]
    }
   ],
   "source": [
    "%%time\n",
    "presamples_data_normalized = {}\n",
    "presamples_indices_normalized = {}  \n",
    "\n",
    "for trajectory, samples in results_normalized.items():  # Assuming results_normalized is a dictionary\n",
    "    presamples_data_normalized[trajectory] = []  # Initialize empty list for this trajectory\n",
    "    presamples_indices_normalized[trajectory] = []  # Initialize empty list for this trajectory\n",
    "    \n",
    "    for exc in samples:\n",
    "        process = bw.Database(exc['exc_database']).get(exc['exchange'][1])\n",
    "        activity = bw.Database(exc['act_database']).get(exc['activity'][1])\n",
    "        value = exc['sample']\n",
    "\n",
    "        data, indices = create_presamples(\n",
    "            activity=activity,\n",
    "            process=process,\n",
    "            exchanges={\n",
    "                \"new_exchange\": process,\n",
    "                \"new_value\": lambda process: value\n",
    "            }\n",
    "        )\n",
    "\n",
    "        presamples_data_normalized[trajectory].append(data)\n",
    "        presamples_indices_normalized[trajectory].append(indices)\n",
    "\n",
    "    presamples_data_normalized[trajectory] = np.vstack(presamples_data_normalized[trajectory])\n",
    "    #presamples_data_dict_normalized[trajectory] = presamples_data_normalized[trajectory]\n",
    "    #presamples_indices_dict_normalized[trajectory] = presamples_indices_normalized[trajectory]"
   ]
  },
  {
   "cell_type": "code",
   "execution_count": 156,
   "id": "7f6e41c1",
   "metadata": {},
   "outputs": [],
   "source": [
    "index_matrix_data = {}\n",
    "for trajectory, samples in results_normalized.items():\n",
    "    index_matrix_data_normalized = [\n",
    "        (globals()[f'presamples_data_normalized'][trajectory], \n",
    "         globals()[f'presamples_indices_normalized'][trajectory], 'technosphere')\n",
    "    ]\n",
    "    \n",
    "    index_id_normalized, index_path_normalized = ps.create_presamples_package(\n",
    "        matrix_data=index_matrix_data_normalized,\n",
    "    )\n",
    "    \n",
    "    index_matrix_data[trajectory] = {\n",
    "        'data': index_matrix_data_normalized,\n",
    "        'index_id': index_id_normalized,\n",
    "        'index_path': index_path_normalized\n",
    "    }\n",
    "    \n",
    "    globals()[f'index_id_normalized_{trajectory}'] = index_id_normalized\n",
    "    globals()[f'index_path_normalized_{trajectory}'] = index_path_normalized\n"
   ]
  },
  {
   "cell_type": "markdown",
   "id": "0341f2e6",
   "metadata": {},
   "source": [
    "# LCA calculations"
   ]
  },
  {
   "cell_type": "code",
   "execution_count": 157,
   "id": "58c9eeba",
   "metadata": {},
   "outputs": [],
   "source": [
    "presamples = [{\"name\": size, \"runs\": len(X[size][0]), \"path\": [globals()[f'index_path_normalized_{size}']], \"number\": \"all\"} for size in trajectories]"
   ]
  },
  {
   "cell_type": "code",
   "execution_count": 158,
   "id": "9c5ff2d7",
   "metadata": {},
   "outputs": [
    {
     "name": "stdout",
     "output_type": "stream",
     "text": [
      "M0\n",
      "M1\n"
     ]
    }
   ],
   "source": [
    "for size in trajectories:\n",
    "    print(size)"
   ]
  },
  {
   "cell_type": "code",
   "execution_count": 159,
   "id": "98a8a215",
   "metadata": {
    "scrolled": true
   },
   "outputs": [
    {
     "name": "stdout",
     "output_type": "stream",
     "text": [
      "CPU times: total: 8.86 s\n",
      "Wall time: 3.06 s\n"
     ]
    }
   ],
   "source": [
    "%%time\n",
    "import time\n",
    "\n",
    "indices = []\n",
    "results = []\n",
    "final_activities = []\n",
    "component_order = []\n",
    "\n",
    "results_by_name = {}\n",
    "\n",
    "for presample in presamples:\n",
    "    start_time = time.time()\n",
    "\n",
    "    clca = MyMonteCarloLCA(\n",
    "        all_demand_dict,\n",
    "        method=methods[0],\n",
    "        presamples=presample[\"path\"],\n",
    "        final_activities=final_activities,\n",
    "        database_name=db,\n",
    "        bio_indices=None,\n",
    "        tech_indices=None,\n",
    "        include_only_specific_bio_uncertainty=True,\n",
    "        include_only_specific_exc_uncertainty=True,\n",
    "    )\n",
    "\n",
    "    next(clca)\n",
    "\n",
    "    temp_results = collect_results(\n",
    "        clca,\n",
    "        all_demands,\n",
    "        final_activities,\n",
    "        len(samples_dict[presample[\"name\"]][0]),\n",
    "        methods[0],\n",
    "        d_label,\n",
    "        component_order,\n",
    "        database_name=db,\n",
    "        bio_indices=None,\n",
    "        tech_indices=None,\n",
    "        include_only_specific_bio_uncertainty=True,\n",
    "        include_only_specific_exc_uncertainty=True,\n",
    "    )\n",
    "\n",
    "    end_time = time.time()\n",
    "    runtime = end_time - start_time\n",
    "\n",
    "    temp_results[\"category\"] = presample[\"name\"]\n",
    "    temp_results[\"runtime\"] = runtime \n",
    "    temp_results[\"runs\"] = presample[\"runs\"]\n",
    "\n",
    "    results_by_name[presample[\"name\"]] = temp_results\n",
    "\n",
    "\n",
    "morris_results = pd.concat(results_by_name)"
   ]
  },
  {
   "cell_type": "code",
   "execution_count": 160,
   "id": "e830482f",
   "metadata": {},
   "outputs": [],
   "source": [
    "morris_results.to_csv(r\"results/Simple_local_scores_sobol.csv\", index=False)"
   ]
  },
  {
   "cell_type": "code",
   "execution_count": 161,
   "id": "1573ce1e",
   "metadata": {},
   "outputs": [
    {
     "data": {
      "text/html": [
       "<div>\n",
       "<style scoped>\n",
       "    .dataframe tbody tr th:only-of-type {\n",
       "        vertical-align: middle;\n",
       "    }\n",
       "\n",
       "    .dataframe tbody tr th {\n",
       "        vertical-align: top;\n",
       "    }\n",
       "\n",
       "    .dataframe thead th {\n",
       "        text-align: right;\n",
       "    }\n",
       "</style>\n",
       "<table border=\"1\" class=\"dataframe\">\n",
       "  <thead>\n",
       "    <tr style=\"text-align: right;\">\n",
       "      <th></th>\n",
       "      <th></th>\n",
       "      <th>scenario</th>\n",
       "      <th>method</th>\n",
       "      <th>iteration</th>\n",
       "      <th>score</th>\n",
       "      <th>category</th>\n",
       "      <th>runtime</th>\n",
       "      <th>runs</th>\n",
       "    </tr>\n",
       "  </thead>\n",
       "  <tbody>\n",
       "    <tr>\n",
       "      <th rowspan=\"5\" valign=\"top\">M0</th>\n",
       "      <th>0</th>\n",
       "      <td>fu</td>\n",
       "      <td>climate change</td>\n",
       "      <td>0</td>\n",
       "      <td>10.033333</td>\n",
       "      <td>M0</td>\n",
       "      <td>1.625239</td>\n",
       "      <td>902</td>\n",
       "    </tr>\n",
       "    <tr>\n",
       "      <th>1</th>\n",
       "      <td>fu</td>\n",
       "      <td>climate change</td>\n",
       "      <td>1</td>\n",
       "      <td>10.033333</td>\n",
       "      <td>M0</td>\n",
       "      <td>1.625239</td>\n",
       "      <td>902</td>\n",
       "    </tr>\n",
       "    <tr>\n",
       "      <th>2</th>\n",
       "      <td>fu</td>\n",
       "      <td>climate change</td>\n",
       "      <td>2</td>\n",
       "      <td>10.025000</td>\n",
       "      <td>M0</td>\n",
       "      <td>1.625239</td>\n",
       "      <td>902</td>\n",
       "    </tr>\n",
       "    <tr>\n",
       "      <th>3</th>\n",
       "      <td>fu</td>\n",
       "      <td>climate change</td>\n",
       "      <td>3</td>\n",
       "      <td>10.025000</td>\n",
       "      <td>M0</td>\n",
       "      <td>1.625239</td>\n",
       "      <td>902</td>\n",
       "    </tr>\n",
       "    <tr>\n",
       "      <th>4</th>\n",
       "      <td>fu</td>\n",
       "      <td>climate change</td>\n",
       "      <td>4</td>\n",
       "      <td>10.025000</td>\n",
       "      <td>M0</td>\n",
       "      <td>1.625239</td>\n",
       "      <td>902</td>\n",
       "    </tr>\n",
       "    <tr>\n",
       "      <th>...</th>\n",
       "      <th>...</th>\n",
       "      <td>...</td>\n",
       "      <td>...</td>\n",
       "      <td>...</td>\n",
       "      <td>...</td>\n",
       "      <td>...</td>\n",
       "      <td>...</td>\n",
       "      <td>...</td>\n",
       "    </tr>\n",
       "    <tr>\n",
       "      <th rowspan=\"5\" valign=\"top\">M1</th>\n",
       "      <th>895</th>\n",
       "      <td>fu</td>\n",
       "      <td>climate change</td>\n",
       "      <td>895</td>\n",
       "      <td>10.025000</td>\n",
       "      <td>M1</td>\n",
       "      <td>1.437491</td>\n",
       "      <td>902</td>\n",
       "    </tr>\n",
       "    <tr>\n",
       "      <th>896</th>\n",
       "      <td>fu</td>\n",
       "      <td>climate change</td>\n",
       "      <td>896</td>\n",
       "      <td>15.000010</td>\n",
       "      <td>M1</td>\n",
       "      <td>1.437491</td>\n",
       "      <td>902</td>\n",
       "    </tr>\n",
       "    <tr>\n",
       "      <th>897</th>\n",
       "      <td>fu</td>\n",
       "      <td>climate change</td>\n",
       "      <td>897</td>\n",
       "      <td>15.000003</td>\n",
       "      <td>M1</td>\n",
       "      <td>1.437491</td>\n",
       "      <td>902</td>\n",
       "    </tr>\n",
       "    <tr>\n",
       "      <th>898</th>\n",
       "      <td>fu</td>\n",
       "      <td>climate change</td>\n",
       "      <td>898</td>\n",
       "      <td>5.049997</td>\n",
       "      <td>M1</td>\n",
       "      <td>1.437491</td>\n",
       "      <td>902</td>\n",
       "    </tr>\n",
       "    <tr>\n",
       "      <th>899</th>\n",
       "      <td>fu</td>\n",
       "      <td>climate change</td>\n",
       "      <td>899</td>\n",
       "      <td>0.000000</td>\n",
       "      <td>M1</td>\n",
       "      <td>1.437491</td>\n",
       "      <td>902</td>\n",
       "    </tr>\n",
       "  </tbody>\n",
       "</table>\n",
       "<p>1800 rows × 7 columns</p>\n",
       "</div>"
      ],
      "text/plain": [
       "       scenario          method  iteration      score category   runtime  runs\n",
       "M0 0         fu  climate change          0  10.033333       M0  1.625239   902\n",
       "   1         fu  climate change          1  10.033333       M0  1.625239   902\n",
       "   2         fu  climate change          2  10.025000       M0  1.625239   902\n",
       "   3         fu  climate change          3  10.025000       M0  1.625239   902\n",
       "   4         fu  climate change          4  10.025000       M0  1.625239   902\n",
       "...         ...             ...        ...        ...      ...       ...   ...\n",
       "M1 895       fu  climate change        895  10.025000       M1  1.437491   902\n",
       "   896       fu  climate change        896  15.000010       M1  1.437491   902\n",
       "   897       fu  climate change        897  15.000003       M1  1.437491   902\n",
       "   898       fu  climate change        898   5.049997       M1  1.437491   902\n",
       "   899       fu  climate change        899   0.000000       M1  1.437491   902\n",
       "\n",
       "[1800 rows x 7 columns]"
      ]
     },
     "execution_count": 161,
     "metadata": {},
     "output_type": "execute_result"
    }
   ],
   "source": [
    "morris_results"
   ]
  },
  {
   "cell_type": "markdown",
   "id": "ad3684de",
   "metadata": {},
   "source": [
    "# Sensitivity analysis"
   ]
  },
  {
   "cell_type": "code",
   "execution_count": 163,
   "id": "190c62e5",
   "metadata": {},
   "outputs": [
    {
     "name": "stdout",
     "output_type": "stream",
     "text": [
      "4\n",
      "        mu   mu_star  sigma  mu_star_conf\n",
      "M1 mix NaN  0.080204    NaN      0.103267\n",
      "M0 mix NaN  0.014366    NaN      0.002499\n",
      "4\n",
      "        mu   mu_star  sigma  mu_star_conf\n",
      "M1 mix NaN  2.363504    NaN      0.446225\n",
      "M0 mix NaN  6.208804    NaN      0.473911\n"
     ]
    },
    {
     "data": {
      "text/plain": [
       "900"
      ]
     },
     "execution_count": 163,
     "metadata": {},
     "output_type": "execute_result"
    }
   ],
   "source": [
    "from SALib.analyze.morris import analyze\n",
    "SA_results={}\n",
    "for trajectory in trajectories:\n",
    "    samples_copy = np.array(samples_without_norm[trajectory].transpose(), dtype=np.float64)\n",
    "    results_SA_normalized = morris_results[morris_results['category']== trajectory]\n",
    "    \n",
    "    SA_normalized = analyze(problem[trajectory],samples_copy, np.array(results_SA_normalized['score']), \n",
    "                            conf_level=0.95,  \n",
    "                            print_to_console=True, \n",
    "                       #    calc_second_order=False,\n",
    "                           \n",
    "          )\n",
    "\n",
    "    SA_results[trajectory] = pd.DataFrame(SA_normalized)\n",
    "len(samples_copy)"
   ]
  },
  {
   "cell_type": "code",
   "execution_count": null,
   "id": "c5ab59d2",
   "metadata": {},
   "outputs": [],
   "source": [
    "SA_results_df = pd.concat([df.assign(index=k) for k, df in SA_results.items()])"
   ]
  },
  {
   "cell_type": "code",
   "execution_count": null,
   "id": "16d4362a",
   "metadata": {},
   "outputs": [],
   "source": [
    "SA_results_df"
   ]
  },
  {
   "cell_type": "code",
   "execution_count": null,
   "id": "65bb98ff",
   "metadata": {},
   "outputs": [],
   "source": [
    "SA_results_df.to_csv(r\"results/Simple_local_sobol_results.csv\", index=False)"
   ]
  },
  {
   "cell_type": "code",
   "execution_count": null,
   "id": "05bd1956",
   "metadata": {},
   "outputs": [],
   "source": []
  }
 ],
 "metadata": {
  "kernelspec": {
   "display_name": "ab",
   "language": "python",
   "name": "ab"
  },
  "language_info": {
   "codemirror_mode": {
    "name": "ipython",
    "version": 3
   },
   "file_extension": ".py",
   "mimetype": "text/x-python",
   "name": "python",
   "nbconvert_exporter": "python",
   "pygments_lexer": "ipython3",
   "version": "3.9.13"
  }
 },
 "nbformat": 4,
 "nbformat_minor": 5
}
