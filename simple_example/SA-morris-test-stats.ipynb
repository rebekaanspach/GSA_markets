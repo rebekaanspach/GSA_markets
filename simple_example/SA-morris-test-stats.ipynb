{
 "cells": [
  {
   "cell_type": "markdown",
   "id": "dddd1022",
   "metadata": {},
   "source": [
    "# Uncertainty on market shares"
   ]
  },
  {
   "cell_type": "code",
   "execution_count": 1,
   "id": "8970c3ba",
   "metadata": {},
   "outputs": [
    {
     "data": {
      "text/plain": [
       "(0, 2, 6)"
      ]
     },
     "execution_count": 1,
     "metadata": {},
     "output_type": "execute_result"
    }
   ],
   "source": [
    "import brightway2 as bw\n",
    "import bw2calc as bc\n",
    "import bw2data as bd\n",
    "import numpy as np\n",
    "import pandas as pd\n",
    "import presamples as ps\n",
    "import scipy\n",
    "import scipy.stats as stats\n",
    "from functions import make_dirichlet_distribution, get_elec_input, create_presamples, query_for_activities\n",
    "ps.__version__"
   ]
  },
  {
   "cell_type": "code",
   "execution_count": null,
   "id": "befb0ca0",
   "metadata": {},
   "outputs": [],
   "source": [
    "from presamples import array\n",
    "\n",
    "def custom_sample(self, index):\n",
    "    \"\"\"Draw a new sample from the pre-sampled arrays sequentially not randomly. The original code draws samples randomly. \"\"\"\n",
    "    index_ordered = self.count % self.data[0].shape[1]\n",
    "    result = np.hstack([arr[:, index_ordered] for arr in self.data])\n",
    "    self.count += 1   \n",
    "    return result\n",
    "\n",
    "\n",
    "array.RegularPresamplesArrays.sample = custom_sample"
   ]
  },
  {
   "cell_type": "code",
   "execution_count": 2,
   "id": "1b74d376",
   "metadata": {},
   "outputs": [],
   "source": [
    "import sys\n",
    "import os\n",
    "\n",
    "sys.path.append(os.path.abspath(r\"..\\..\\OneDrive\\Github\\LCA_uncertainty\"))  \n",
    "import bw_helpers as bh"
   ]
  },
  {
   "cell_type": "code",
   "execution_count": 38,
   "id": "c5eaf8e1",
   "metadata": {},
   "outputs": [],
   "source": [
    "bw.projects.set_current(\"UK-wood-clca\")\n",
    "cutoff391 = bw.Database('cutoff-3.9.1')\n",
    "\n",
    "test = bw.Database('mydb3')\n",
    "\n",
    "fu = test.get('0cf1f43a31e143b5bc5c06f8979f08b8')\n",
    "\n",
    "all_demands = [{fu: 1}]\n",
    "d_label = [\"fu\"]\n",
    "\n",
    "methods = [\n",
    "     ('ReCiPe 2016 v1.03, midpoint (H)', 'climate change', 'global warming potential (GWP1000)'), \n",
    "]"
   ]
  },
  {
   "cell_type": "code",
   "execution_count": 39,
   "id": "011ab5f9",
   "metadata": {},
   "outputs": [
    {
     "data": {
      "text/plain": [
       "'market 0' (unit, GLO, None)"
      ]
     },
     "execution_count": 39,
     "metadata": {},
     "output_type": "execute_result"
    }
   ],
   "source": [
    "fu"
   ]
  },
  {
   "cell_type": "code",
   "execution_count": 40,
   "id": "fae3cd01",
   "metadata": {},
   "outputs": [
    {
     "data": {
      "text/plain": [
       "[]"
      ]
     },
     "execution_count": 40,
     "metadata": {},
     "output_type": "execute_result"
    }
   ],
   "source": [
    "fu.get('classifications', [])"
   ]
  },
  {
   "cell_type": "markdown",
   "id": "51f58ac3",
   "metadata": {},
   "source": [
    "# Initialising monte calro lca"
   ]
  },
  {
   "cell_type": "code",
   "execution_count": 41,
   "id": "886e9dd6",
   "metadata": {},
   "outputs": [],
   "source": [
    "from bw_helpers import sample_results, MyMonteCarloLCA, collect_results"
   ]
  },
  {
   "cell_type": "code",
   "execution_count": 42,
   "id": "9350ac2e",
   "metadata": {},
   "outputs": [
    {
     "name": "stdout",
     "output_type": "stream",
     "text": [
      "CPU times: total: 172 ms\n",
      "Wall time: 160 ms\n"
     ]
    },
    {
     "data": {
      "text/plain": [
       "9.999999905005097"
      ]
     },
     "execution_count": 42,
     "metadata": {},
     "output_type": "execute_result"
    }
   ],
   "source": [
    "%%time\n",
    "all_demand_dict = all_demands[0].copy()\n",
    "for other_demand in all_demands[1:]:\n",
    "    all_demand_dict.update(other_demand)\n",
    "\n",
    "db = ['mydb']\n",
    "\n",
    "indices = [1,1]\n",
    "\n",
    "clca = MyMonteCarloLCA(all_demand_dict, \n",
    "                               method=methods[0], \n",
    "                               #presamples = presample,\n",
    "                               final_activities=[],\n",
    "                               database_name = db, \n",
    "                               tech_indices=None,\n",
    "                               bio_indices=None,\n",
    "                               include_only_specific_bio_uncertainty= True, \n",
    "                               include_only_specific_exc_uncertainty = True,\n",
    "                               seed =False)\n",
    "next(clca)\n"
   ]
  },
  {
   "cell_type": "code",
   "execution_count": 43,
   "id": "51cd5d4d",
   "metadata": {},
   "outputs": [],
   "source": [
    "def query_for_activities(\n",
    "        lca, \n",
    "        database_name_markets, \n",
    "        activities_to_query,\n",
    "):\n",
    "    activities =[]\n",
    "    for db in database_name_markets:\n",
    "        activity = [\n",
    "            act for act in bw.Database(db)\n",
    "            if any(keyword in act['name'] for keyword in activities_to_query)\n",
    "        ]\n",
    "        activities.append(activity)\n",
    "    \n",
    "    return activities\n",
    "\n",
    "def query_for_activities_with_class(\n",
    "        lca, \n",
    "        database_name_markets, \n",
    "):\n",
    "    activities = []\n",
    "    for db in database_name_markets:\n",
    "        for act in bw.Database(db):\n",
    "            category = [\n",
    "                sublist[1] \n",
    "                for sublist in bw.Database(db).get(act[1])['classifications'] \n",
    "                if sublist[0] == 'ISIC rev.4 ecoinvent'\n",
    "            ]\n",
    "            \n",
    "            activity_dict = {\n",
    "                'activity': act,\n",
    "                'category': category,\n",
    "            }\n",
    "            activities.append(activity_dict)\n",
    "\n",
    "    return activities\n",
    "\n",
    "def get_tech_value(lca, row, col):\n",
    "        for i in range(lca.technosphere_matrix.indptr[row], lca.technosphere_matrix.indptr[row + 1]):\n",
    "            if lca.technosphere_matrix.indices[i] == col:\n",
    "                value = lca.technosphere_matrix.data[i]\n",
    "                return value\n",
    "        return 0.0  # Value is 0 if not found\n",
    "\n",
    "    \n",
    "def get_tech_activity_by_index(lca, index):\n",
    "    \"\"\"Get the activity corresponding to the given index.\"\"\"\n",
    "    for key, value in lca.activity_dict.items():\n",
    "        if value == index:\n",
    "            return key\n",
    "    return None\n",
    "\n",
    "def get_tech_activity_index(lca, act_key):\n",
    "    \"\"\"Get the activity corresponding to the given index.\"\"\"\n",
    "    for key, value in lca.activity_dict.items():\n",
    "        if key[1] == act_key:\n",
    "            return value\n",
    "    return None\n",
    "\n",
    "\n",
    "def get_bio_value(lca, row, col):\n",
    "        for i in range(lca.biosphere_matrix.indptr[row], lca.biosphere_matrix.indptr[row + 1]):\n",
    "            if lca.biosphere_matrix.indices[i] == col:\n",
    "                value = lca.biosphere_matrix.data[i]\n",
    "                return value\n",
    "        return 0.0  # Value is 0 if not found\n",
    "\n",
    "    \n",
    "def get_bio_activity_by_index(lca, index):\n",
    "    \"\"\"Get the activity corresponding to the given index.\"\"\"\n",
    "    for key, value in lca.biosphere_dict.items():\n",
    "        if value == index:\n",
    "            return key\n",
    "    return None\n",
    "\n",
    "def get_bio_activity_index(lca, act_key):\n",
    "    \"\"\"Get the activity corresponding to the given index.\"\"\"\n",
    "    for key, value in lca.biosphere_dict.items():\n",
    "        if key[1] == act_key:\n",
    "            return value\n",
    "    return None\n",
    "\n",
    "\n",
    "def get_tech_exchanges_of_activity(lca, activities):\n",
    "        row_col_info = []\n",
    "        col_indices = [get_tech_activity_index(lca, activity['code']) for activity in activities]\n",
    "        for column_index in col_indices:\n",
    "            if column_index is not None:\n",
    "                nonzero_rows = lca.lca.technosphere_matrix[:, column_index].nonzero()[0]\n",
    "\n",
    "                for row_index in nonzero_rows:\n",
    "                    exc_code = get_tech_activity_by_index(lca, row_index)\n",
    "                    exc_name = bw.Database(exc_code[0]).get(exc_code[1])\n",
    "\n",
    "                    col_activity_code = get_tech_activity_by_index(lca, column_index)\n",
    "                    col_activity_name = bw.Database(col_activity_code[0]).get(col_activity_code[1])\n",
    "                    col_activity_value = - get_tech_value(lca, row_index, column_index)\n",
    "                    col_activity_db= exc_code[0]\n",
    "\n",
    "                    dict = {\n",
    "                    'indices': [row_index, column_index],\n",
    "                    'activity': col_activity_name,\n",
    "                    'exchange': exc_name,\n",
    "                    'database': col_activity_db,\n",
    "                    'value': col_activity_value,\n",
    "                }\n",
    "                    row_col_info.append(dict)\n",
    "        return row_col_info"
   ]
  },
  {
   "cell_type": "code",
   "execution_count": 44,
   "id": "512a6d67",
   "metadata": {},
   "outputs": [],
   "source": [
    "mc=5000"
   ]
  },
  {
   "cell_type": "markdown",
   "id": "be677b20",
   "metadata": {},
   "source": [
    "# Query exchanges"
   ]
  },
  {
   "cell_type": "code",
   "execution_count": 45,
   "id": "9174cee9",
   "metadata": {},
   "outputs": [],
   "source": [
    "activities_to_include = ['']\n",
    "activities = query_for_activities(clca, ['mydb'],activities_to_include)"
   ]
  },
  {
   "cell_type": "code",
   "execution_count": 46,
   "id": "ef026017",
   "metadata": {},
   "outputs": [],
   "source": [
    "flattened_activities = [item for sublist in activities for item in sublist]"
   ]
  },
  {
   "cell_type": "code",
   "execution_count": 47,
   "id": "05e5ac95",
   "metadata": {},
   "outputs": [],
   "source": [
    "foreground_tech_exchanges = get_tech_exchanges_of_activity(clca, flattened_activities)"
   ]
  },
  {
   "cell_type": "code",
   "execution_count": 48,
   "id": "f29d264e",
   "metadata": {},
   "outputs": [],
   "source": [
    "indices = []\n",
    "for exchanges in foreground_tech_exchanges:\n",
    "        indices.append(exchanges['indices']) "
   ]
  },
  {
   "cell_type": "code",
   "execution_count": 49,
   "id": "8c9ddb65",
   "metadata": {},
   "outputs": [],
   "source": [
    "exchanges_sorted = [exc for exc in foreground_tech_exchanges if exc['indices'][0] != exc['indices'][1] ]"
   ]
  },
  {
   "cell_type": "code",
   "execution_count": 50,
   "id": "78fe0c8a",
   "metadata": {},
   "outputs": [],
   "source": [
    "activities =[]\n",
    "for exc in exchanges_sorted:\n",
    "    activities.append(exc[\"activity\"])"
   ]
  },
  {
   "cell_type": "code",
   "execution_count": 51,
   "id": "4e9d1f5a",
   "metadata": {},
   "outputs": [
    {
     "data": {
      "text/plain": [
       "{'market 0' (unit, GLO, None),\n",
       " 'market 1' (unit, GLO, None),\n",
       " 'process 3' (unit, GLO, None),\n",
       " 'process 2' (unit, GLO, None),\n",
       " 'process 4' (unit, GLO, None)}"
      ]
     },
     "execution_count": 51,
     "metadata": {},
     "output_type": "execute_result"
    }
   ],
   "source": [
    "set(activities)"
   ]
  },
  {
   "cell_type": "code",
   "execution_count": 52,
   "id": "df464cdd",
   "metadata": {},
   "outputs": [],
   "source": [
    "indices = []\n",
    "for exchanges in exchanges_sorted:\n",
    "        indices.append(exchanges['indices']) "
   ]
  },
  {
   "cell_type": "code",
   "execution_count": 53,
   "id": "257d7e00",
   "metadata": {},
   "outputs": [
    {
     "data": {
      "text/plain": [
       "'process 4' (unit, GLO, None)"
      ]
     },
     "execution_count": 53,
     "metadata": {},
     "output_type": "execute_result"
    }
   ],
   "source": [
    "test.get('48f3b25cc05e4be9896033edd3bf6c25')"
   ]
  },
  {
   "cell_type": "markdown",
   "id": "13a509e1",
   "metadata": {},
   "source": [
    "# update value with dirichlet distribution"
   ]
  },
  {
   "cell_type": "markdown",
   "id": "3f4f0d9e",
   "metadata": {},
   "source": [
    "### Sample X"
   ]
  },
  {
   "cell_type": "markdown",
   "id": "6658908b",
   "metadata": {},
   "source": [
    "For each activity, the quantity (value) of exchanges is updated in `exc_ dict` so that they sum to 1. \n",
    "\n",
    "`ext_dict` is a dictionnary that stores exchange names, their indices, their quantity (value) and their source activity.\n",
    "\n",
    "The values summing to one are sampled using dirichlet distribution (N= mc) with different `concentration values`.\n",
    "For each `concentration value` a new `exc_dict` is stored.  "
   ]
  },
  {
   "cell_type": "code",
   "execution_count": 54,
   "id": "fefdc6d3",
   "metadata": {},
   "outputs": [],
   "source": [
    "all_results =  [\n",
    "{   \n",
    "    'indices': [6,3],\n",
    "    'activity': test.get('2f50342bbde14b0ea600e37c31d689d2'),#market 1\n",
    "    'exchange': test.get('418637ddec644fbf98cac237fda66b02_copy1'),#pr2\n",
    "    'exc_database': 'mydb3',\n",
    "    'act_database': 'mydb3',\n",
    "    'sample':0,\n",
    "    'old_value':0.5\n",
    "    },\n",
    "    {   \n",
    "    'indices': [5,3],\n",
    "    'activity': test.get('2f50342bbde14b0ea600e37c31d689d2'),#market 1\n",
    "    'exchange': test.get('2f50342bbde14b0ea600e37c31d689d2_copy1'),#pr3\n",
    "    'exc_database': 'mydb3',\n",
    "    'act_database': 'mydb3',\n",
    "    'sample':1,\n",
    "    'old_value':0.5\n",
    "    },\n",
    "    {   \n",
    "    'indices': [4,1],\n",
    "    'activity': test.get('0cf1f43a31e143b5bc5c06f8979f08b8'),\n",
    "    'exchange': test.get('48f3b25cc05e4be9896033edd3bf6c25'),#pr4\n",
    "    'exc_database': 'mydb3',\n",
    "    'act_database':'mydb3',\n",
    "    'sample':0,\n",
    "    'old_value':0.5\n",
    "    },\n",
    "    {   \n",
    "    'indices': [8,1],\n",
    "    'activity': test.get('0cf1f43a31e143b5bc5c06f8979f08b8'),\n",
    "    'exchange': test.get('418637ddec644fbf98cac237fda66b02_copy5'),#pr1\n",
    "    'exc_database': 'mydb3',\n",
    "    'act_database': 'mydb3',\n",
    "    'sample':1,\n",
    "    'old_value':0.5\n",
    "    }\n",
    "\n",
    "]\n",
    "\n"
   ]
  },
  {
   "cell_type": "code",
   "execution_count": 55,
   "id": "d141ad26",
   "metadata": {
    "scrolled": true
   },
   "outputs": [],
   "source": [
    "all_results_2 =  [\n",
    "{   \n",
    "    'indices': [6,3],\n",
    "    'activity': test.get('2f50342bbde14b0ea600e37c31d689d2'),#market 1\n",
    "    'exchange': test.get('418637ddec644fbf98cac237fda66b02_copy1'),#pr2\n",
    "    'exc_database': 'mydb3',\n",
    "    'act_database': 'mydb3',\n",
    "    'sample':1,\n",
    "    'old_value':0.5\n",
    "    },\n",
    "    {   \n",
    "    'indices': [5,3],\n",
    "    'activity': test.get('2f50342bbde14b0ea600e37c31d689d2'),#market 1\n",
    "    'exchange': test.get('2f50342bbde14b0ea600e37c31d689d2_copy1'),#pr3\n",
    "    'exc_database': 'mydb3',\n",
    "    'act_database': 'mydb3',\n",
    "    'sample':0,\n",
    "    'old_value':0.5\n",
    "    },\n",
    "    {   \n",
    "    'indices': [4,1],\n",
    "    'activity': test.get('0cf1f43a31e143b5bc5c06f8979f08b8'),\n",
    "    'exchange': test.get('48f3b25cc05e4be9896033edd3bf6c25'),#pr4\n",
    "    'exc_database': 'mydb3',\n",
    "    'act_database':'mydb3',\n",
    "    'sample':1,\n",
    "    'old_value':0.5\n",
    "    },\n",
    "    {   \n",
    "    'indices': [8,1],\n",
    "    'activity': test.get('0cf1f43a31e143b5bc5c06f8979f08b8'),\n",
    "    'exchange': test.get('418637ddec644fbf98cac237fda66b02_copy5'),#pr1\n",
    "    'exc_database': 'mydb3',\n",
    "    'act_database': 'mydb3',\n",
    "    'sample':0,\n",
    "    'old_value':0.5\n",
    "    }\n",
    "\n",
    "]"
   ]
  },
  {
   "cell_type": "code",
   "execution_count": 56,
   "id": "5104de9b",
   "metadata": {},
   "outputs": [],
   "source": [
    "pr1_1 = list(filter(lambda entry: entry['indices'] in [[8,1],[4,1]], all_results))\n",
    "pr2_0 = list(filter(lambda entry: entry['indices'] in [[5,3],[6,3]], all_results))\n",
    "pr1_0 = list(filter(lambda entry: entry['indices'] in [[8,1],[4,1]], all_results_2))\n",
    "pr2_1 = list(filter(lambda entry: entry['indices'] in [[5,3],[6,3]], all_results_2))"
   ]
  },
  {
   "cell_type": "markdown",
   "id": "3105cc2b",
   "metadata": {},
   "source": [
    "# create presamples"
   ]
  },
  {
   "cell_type": "markdown",
   "id": "fbb54c25",
   "metadata": {},
   "source": [
    "A presample is created for each `exc_dict`."
   ]
  },
  {
   "cell_type": "code",
   "execution_count": 57,
   "id": "e159c5d0",
   "metadata": {},
   "outputs": [],
   "source": [
    "def query_by_index(data, index):\n",
    "    results = [entry for entry in data if entry['index'] == index]\n",
    "    return results"
   ]
  },
  {
   "cell_type": "code",
   "execution_count": 58,
   "id": "c0308172",
   "metadata": {},
   "outputs": [],
   "source": [
    "runs= [\n",
    "    'pr1_1',\n",
    "    'pr2_0',\n",
    "    'pr1_0',\n",
    "    'pr2_1',\n",
    "\n",
    "    \n",
    "]"
   ]
  },
  {
   "cell_type": "code",
   "execution_count": 59,
   "id": "476c6ac0",
   "metadata": {},
   "outputs": [],
   "source": [
    "presamples_data_dict = {}\n",
    "presamples_indices_dict = {}\n",
    "index_dict = {\n",
    "    'pr1_1': pr1_1,\n",
    "    'pr2_0': pr2_0,\n",
    "    'pr1_0': pr1_0,\n",
    "    'pr2_1': pr2_1,\n",
    "   \n",
    "\n",
    "    \n",
    "\n",
    "                }"
   ]
  },
  {
   "cell_type": "code",
   "execution_count": 60,
   "id": "69b84fc0",
   "metadata": {},
   "outputs": [
    {
     "name": "stdout",
     "output_type": "stream",
     "text": [
      "pr1_1\n",
      "pr2_0\n",
      "pr1_0\n",
      "pr2_1\n"
     ]
    }
   ],
   "source": [
    "for index_name, index_value in index_dict.items():\n",
    "    print(index_name)\n",
    "    presamples_data = []  # Create a new list for each concentration\n",
    "    presamples_indices = []  # Create a new list for each concentration\n",
    "    \n",
    "    for exc in index_value:\n",
    "        process = bw.Database(exc['exc_database']).get(exc['exchange'][1])\n",
    "        activity = bw.Database(exc['act_database']).get(exc['activity'][1])\n",
    "        value = exc['sample']\n",
    "\n",
    "        data, indices = create_presamples(\n",
    "            activity=activity,\n",
    "            process=process,\n",
    "            exchanges={\n",
    "                \"new_exchange\": process,\n",
    "                \"new_value\": lambda process: value\n",
    "            }\n",
    "        )\n",
    "\n",
    "        presamples_data.append(data)\n",
    "        presamples_indices.append(indices)\n",
    "\n",
    "\n",
    "    # Stack the collected arrays into a single 2D array\n",
    "    presamples_data = np.vstack(presamples_data)\n",
    "\n",
    "    presamples_data_dict[index_name] = presamples_data\n",
    "    presamples_indices_dict[index_name] = presamples_indices\n",
    "\n",
    "    locals()[f\"presamples_data_{index_name}\"] = presamples_data_dict[index_name]\n"
   ]
  },
  {
   "cell_type": "code",
   "execution_count": 61,
   "id": "9ff0b46c",
   "metadata": {},
   "outputs": [
    {
     "name": "stdout",
     "output_type": "stream",
     "text": [
      "CPU times: total: 31.2 ms\n",
      "Wall time: 14.3 ms\n"
     ]
    }
   ],
   "source": [
    "%%time\n",
    "presamples_data = {}\n",
    "presamples_indices = {}  \n",
    "\n",
    "for index_name, index_value in index_dict.items():  # Assuming results_normalized is a dictionary\n",
    "    presamples_data[index_name] = []  # Initialize empty list for this trajectory\n",
    "    presamples_indices[index_name] = []  # Initialize empty list for this trajectory\n",
    "    \n",
    "    for exc in index_value:\n",
    "        process = bw.Database(exc['exc_database']).get(exc['exchange'][1])\n",
    "        activity = bw.Database(exc['act_database']).get(exc['activity'][1])\n",
    "        value = exc['sample']\n",
    "\n",
    "        data, indices = create_presamples(\n",
    "            activity=activity,\n",
    "            process=process,\n",
    "            exchanges={\n",
    "                \"new_exchange\": process,\n",
    "                \"new_value\": lambda process: value\n",
    "            }\n",
    "        )\n",
    "\n",
    "        presamples_data[index_name].append(data)\n",
    "        presamples_indices[index_name].append(indices)\n",
    "\n",
    "    presamples_data[index_name] = np.vstack(presamples_data[index_name])"
   ]
  },
  {
   "cell_type": "code",
   "execution_count": 62,
   "id": "2f4bcf4d",
   "metadata": {},
   "outputs": [],
   "source": [
    "index_matrix_data = {}\n",
    "\n",
    "for index_name, index_value in index_dict.items():\n",
    "    index_matrix_data_list = [\n",
    "        (globals()[f'presamples_data'][index_name], \n",
    "         globals()[f'presamples_indices'][index_name], 'technosphere')\n",
    "    ]\n",
    "    \n",
    "    index_id, index_path = ps.create_presamples_package(\n",
    "        matrix_data=index_matrix_data_list,\n",
    "    )\n",
    "    \n",
    "    #print(index_matrix_data)\n",
    "    #print(type(index_name))\n",
    "    \n",
    "    index_matrix_data[index_name] = {\n",
    "        'data': index_matrix_data_list,\n",
    "        'index_id': index_id,\n",
    "        'index_path': index_path\n",
    "    }\n",
    "    \n",
    "    globals()[f'index_id_{index_name}'] = index_id\n",
    "    globals()[f'index_path_{index_name}'] = index_path\n",
    "\n"
   ]
  },
  {
   "cell_type": "markdown",
   "id": "0341f2e6",
   "metadata": {},
   "source": [
    "# LCA calculations"
   ]
  },
  {
   "cell_type": "code",
   "execution_count": 63,
   "id": "58c9eeba",
   "metadata": {},
   "outputs": [],
   "source": [
    "presamples = [{\"name\": index_name, \"path\": [globals()[f'index_path_{index_name}']], \"number\": \"all\"} for index_name in runs]"
   ]
  },
  {
   "cell_type": "code",
   "execution_count": 64,
   "id": "98a8a215",
   "metadata": {
    "scrolled": true
   },
   "outputs": [
    {
     "name": "stdout",
     "output_type": "stream",
     "text": [
      "CPU times: total: 6.36 s\n",
      "Wall time: 1.46 s\n"
     ]
    }
   ],
   "source": [
    "%%time\n",
    "import time\n",
    "\n",
    "indices = []\n",
    "results = []\n",
    "final_activities = []\n",
    "component_order = []\n",
    "\n",
    "results_by_name = {}\n",
    "\n",
    "# Baseline case (no presamples)\n",
    "start_time = time.time()\n",
    "\n",
    "clca = MyMonteCarloLCA(\n",
    "    all_demand_dict,\n",
    "    method=methods[0],\n",
    "    presamples=None,  # No presamples\n",
    "    final_activities=final_activities,\n",
    "    database_name=db,\n",
    "    bio_indices=None,\n",
    "    tech_indices=None,\n",
    "    include_only_specific_bio_uncertainty=True,\n",
    "    include_only_specific_exc_uncertainty=True,\n",
    ")\n",
    "\n",
    "next(clca)\n",
    "\n",
    "baseline_results = collect_results(\n",
    "    clca,\n",
    "    all_demands,\n",
    "    final_activities,\n",
    "    1,\n",
    "    methods[0],\n",
    "    d_label,\n",
    "    component_order,\n",
    "    database_name=db,\n",
    "    bio_indices=None,\n",
    "    tech_indices=None,\n",
    "    include_only_specific_bio_uncertainty=True,\n",
    "    include_only_specific_exc_uncertainty=True,\n",
    ")\n",
    "\n",
    "end_time = time.time()\n",
    "baseline_runtime = end_time - start_time\n",
    "\n",
    "baseline_results[\"names\"] = \"Baseline\"\n",
    "baseline_results[\"runtime\"] = baseline_runtime\n",
    "\n",
    "results_by_name[\"Baseline\"] = baseline_results\n",
    "\n",
    "# Loop over presamples\n",
    "for presample in presamples:\n",
    "    start_time = time.time()\n",
    "\n",
    "    clca = MyMonteCarloLCA(\n",
    "        all_demand_dict,\n",
    "        method=methods[0],\n",
    "        presamples=presample[\"path\"],\n",
    "        final_activities=final_activities,\n",
    "        database_name=db,\n",
    "        bio_indices=None,\n",
    "        tech_indices=None,\n",
    "        include_only_specific_bio_uncertainty=True,\n",
    "        include_only_specific_exc_uncertainty=True,\n",
    "    )\n",
    "\n",
    "    next(clca)\n",
    "\n",
    "    temp_results = collect_results(\n",
    "        clca,\n",
    "        all_demands,\n",
    "        final_activities,\n",
    "        1,\n",
    "        methods[0],\n",
    "        d_label,\n",
    "        component_order,\n",
    "        database_name=db,\n",
    "        bio_indices=None,\n",
    "        tech_indices=None,\n",
    "        include_only_specific_bio_uncertainty=True,\n",
    "        include_only_specific_exc_uncertainty=True,\n",
    "    )\n",
    "\n",
    "    end_time = time.time()\n",
    "    runtime = end_time - start_time\n",
    "\n",
    "    temp_results[\"names\"] = presample[\"name\"]\n",
    "    temp_results[\"runtime\"] = runtime  \n",
    "\n",
    "    results_by_name[presample[\"name\"]] = temp_results\n",
    "\n",
    "# Concatenate results\n",
    "morris_results = pd.concat(results_by_name)\n"
   ]
  },
  {
   "cell_type": "code",
   "execution_count": 65,
   "id": "4565fbee",
   "metadata": {},
   "outputs": [],
   "source": [
    "#morris_results.to_csv(r\"results/Simple_local_scores.csv\", index=False)"
   ]
  },
  {
   "cell_type": "code",
   "execution_count": 66,
   "id": "c9ace29e",
   "metadata": {},
   "outputs": [
    {
     "data": {
      "text/html": [
       "<div>\n",
       "<style scoped>\n",
       "    .dataframe tbody tr th:only-of-type {\n",
       "        vertical-align: middle;\n",
       "    }\n",
       "\n",
       "    .dataframe tbody tr th {\n",
       "        vertical-align: top;\n",
       "    }\n",
       "\n",
       "    .dataframe thead th {\n",
       "        text-align: right;\n",
       "    }\n",
       "</style>\n",
       "<table border=\"1\" class=\"dataframe\">\n",
       "  <thead>\n",
       "    <tr style=\"text-align: right;\">\n",
       "      <th></th>\n",
       "      <th></th>\n",
       "      <th>scenario</th>\n",
       "      <th>method</th>\n",
       "      <th>iteration</th>\n",
       "      <th>score</th>\n",
       "      <th>names</th>\n",
       "      <th>runtime</th>\n",
       "    </tr>\n",
       "  </thead>\n",
       "  <tbody>\n",
       "    <tr>\n",
       "      <th>Baseline</th>\n",
       "      <th>0</th>\n",
       "      <td>fu</td>\n",
       "      <td>climate change</td>\n",
       "      <td>0</td>\n",
       "      <td>10.00</td>\n",
       "      <td>Baseline</td>\n",
       "      <td>0.264438</td>\n",
       "    </tr>\n",
       "    <tr>\n",
       "      <th>pr1_1</th>\n",
       "      <th>0</th>\n",
       "      <td>fu</td>\n",
       "      <td>climate change</td>\n",
       "      <td>0</td>\n",
       "      <td>10.00</td>\n",
       "      <td>pr1_1</td>\n",
       "      <td>0.269483</td>\n",
       "    </tr>\n",
       "    <tr>\n",
       "      <th>pr2_0</th>\n",
       "      <th>0</th>\n",
       "      <td>fu</td>\n",
       "      <td>climate change</td>\n",
       "      <td>0</td>\n",
       "      <td>14.95</td>\n",
       "      <td>pr2_0</td>\n",
       "      <td>0.308846</td>\n",
       "    </tr>\n",
       "    <tr>\n",
       "      <th>pr1_0</th>\n",
       "      <th>0</th>\n",
       "      <td>fu</td>\n",
       "      <td>climate change</td>\n",
       "      <td>0</td>\n",
       "      <td>10.00</td>\n",
       "      <td>pr1_0</td>\n",
       "      <td>0.298916</td>\n",
       "    </tr>\n",
       "    <tr>\n",
       "      <th>pr2_1</th>\n",
       "      <th>0</th>\n",
       "      <td>fu</td>\n",
       "      <td>climate change</td>\n",
       "      <td>0</td>\n",
       "      <td>5.05</td>\n",
       "      <td>pr2_1</td>\n",
       "      <td>0.322849</td>\n",
       "    </tr>\n",
       "  </tbody>\n",
       "</table>\n",
       "</div>"
      ],
      "text/plain": [
       "           scenario          method  iteration  score     names   runtime\n",
       "Baseline 0       fu  climate change          0  10.00  Baseline  0.264438\n",
       "pr1_1    0       fu  climate change          0  10.00     pr1_1  0.269483\n",
       "pr2_0    0       fu  climate change          0  14.95     pr2_0  0.308846\n",
       "pr1_0    0       fu  climate change          0  10.00     pr1_0  0.298916\n",
       "pr2_1    0       fu  climate change          0   5.05     pr2_1  0.322849"
      ]
     },
     "execution_count": 66,
     "metadata": {},
     "output_type": "execute_result"
    }
   ],
   "source": [
    "morris_results"
   ]
  },
  {
   "cell_type": "markdown",
   "id": "14c996a1",
   "metadata": {},
   "source": [
    "# Plots"
   ]
  },
  {
   "cell_type": "code",
   "execution_count": 67,
   "id": "278c4ddf",
   "metadata": {},
   "outputs": [],
   "source": [
    "import matplotlib as mpl\n",
    "import seaborn.objects as so\n",
    "import matplotlib.pyplot as plt"
   ]
  },
  {
   "cell_type": "code",
   "execution_count": 68,
   "id": "709974f6",
   "metadata": {},
   "outputs": [
    {
     "data": {
      "image/png": "[encoded data removed]",
      "text/plain": [
       "<seaborn._core.plot.Plot at 0x19d46b9d760>"
      ]
     },
     "execution_count": 68,
     "metadata": {
      "image/png": {
       "height": 378.25,
       "width": 509.15
      }
     },
     "output_type": "execute_result"
    }
   ],
   "source": [
    "(\n",
    "    so.Plot(morris_results, y=\"score\", x=\"names\")\n",
    "    .limit(y=(0, 20))\n",
    "    .add(so.Bar())\n",
    ")"
   ]
  },
  {
   "cell_type": "code",
   "execution_count": 69,
   "id": "6d1da1ef",
   "metadata": {},
   "outputs": [],
   "source": [
    "morris_results.to_csv(r'..\\..\\GSA_markets\\results\\Simple_local_scores_deterministic.csv', index=False)"
   ]
  },
  {
   "cell_type": "code",
   "execution_count": null,
   "id": "191bf455",
   "metadata": {},
   "outputs": [],
   "source": []
  },
  {
   "cell_type": "code",
   "execution_count": null,
   "id": "0886ce04",
   "metadata": {},
   "outputs": [],
   "source": []
  }
 ],
 "metadata": {
  "kernelspec": {
   "display_name": "ab",
   "language": "python",
   "name": "ab"
  },
  "language_info": {
   "codemirror_mode": {
    "name": "ipython",
    "version": 3
   },
   "file_extension": ".py",
   "mimetype": "text/x-python",
   "name": "python",
   "nbconvert_exporter": "python",
   "pygments_lexer": "ipython3",
   "version": "3.9.13"
  }
 },
 "nbformat": 4,
 "nbformat_minor": 5
}
