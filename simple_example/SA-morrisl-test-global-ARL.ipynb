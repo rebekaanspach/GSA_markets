{
 "cells": [
  {
   "cell_type": "markdown",
   "id": "dddd1022",
   "metadata": {},
   "source": [
    "# Uncertainty on market shares"
   ]
  },
  {
   "cell_type": "code",
   "execution_count": 315,
   "id": "8970c3ba",
   "metadata": {},
   "outputs": [
    {
     "data": {
      "text/plain": [
       "(0, 2, 6)"
      ]
     },
     "execution_count": 315,
     "metadata": {},
     "output_type": "execute_result"
    }
   ],
   "source": [
    "import brightway2 as bw\n",
    "import bw2calc as bc\n",
    "import bw2data as bd\n",
    "import numpy as np\n",
    "import pandas as pd\n",
    "import presamples as ps\n",
    "import scipy\n",
    "import scipy.stats as stats\n",
    "from functions import make_dirichlet_distribution, get_elec_input, create_presamples, query_for_activities\n",
    "ps.__version__"
   ]
  },
  {
   "cell_type": "code",
   "execution_count": null,
   "id": "fabf05b6",
   "metadata": {},
   "outputs": [],
   "source": [
    "from presamples import array\n",
    "\n",
    "def custom_sample(self, index):\n",
    "    \"\"\"Draw a new sample from the pre-sampled arrays sequentially not randomly. The original code draws samples randomly. \"\"\"\n",
    "    index_ordered = self.count % self.data[0].shape[1]\n",
    "    result = np.hstack([arr[:, index_ordered] for arr in self.data])\n",
    "    self.count += 1   \n",
    "    return result\n",
    "\n",
    "\n",
    "array.RegularPresamplesArrays.sample = custom_sample"
   ]
  },
  {
   "cell_type": "code",
   "execution_count": 316,
   "id": "c5eaf8e1",
   "metadata": {},
   "outputs": [],
   "source": [
    "bw.projects.set_current(\"UK-wood-clca\")\n",
    "cutoff391 = bw.Database('cutoff-3.9.1')\n",
    "\n",
    "test = bw.Database('mydb3')\n",
    "\n",
    "fu = test.get('0cf1f43a31e143b5bc5c06f8979f08b8')\n",
    "\n",
    "\n",
    "all_demands = [{fu: 1}]\n",
    "d_label = [\"fu\"]\n",
    "\n",
    "methods = [\n",
    "     ('ReCiPe 2016 v1.03, midpoint (H)', 'climate change', 'global warming potential (GWP1000)'), \n",
    "]"
   ]
  },
  {
   "cell_type": "code",
   "execution_count": 318,
   "id": "fae3cd01",
   "metadata": {},
   "outputs": [
    {
     "data": {
      "text/plain": [
       "[]"
      ]
     },
     "execution_count": 318,
     "metadata": {},
     "output_type": "execute_result"
    }
   ],
   "source": [
    "fu.get('classifications', [])"
   ]
  },
  {
   "cell_type": "markdown",
   "id": "51f58ac3",
   "metadata": {},
   "source": [
    "# Initialising monte calro lca"
   ]
  },
  {
   "cell_type": "code",
   "execution_count": 319,
   "id": "886e9dd6",
   "metadata": {},
   "outputs": [],
   "source": [
    "from bw_helpers import sample_results, MyMonteCarloLCA, collect_results"
   ]
  },
  {
   "cell_type": "code",
   "execution_count": 320,
   "id": "9350ac2e",
   "metadata": {},
   "outputs": [
    {
     "name": "stdout",
     "output_type": "stream",
     "text": [
      "CPU times: total: 156 ms\n",
      "Wall time: 167 ms\n"
     ]
    },
    {
     "data": {
      "text/plain": [
       "9.999999905005097"
      ]
     },
     "execution_count": 320,
     "metadata": {},
     "output_type": "execute_result"
    }
   ],
   "source": [
    "%%time\n",
    "all_demand_dict = all_demands[0].copy()\n",
    "for other_demand in all_demands[1:]:\n",
    "    all_demand_dict.update(other_demand)\n",
    "\n",
    "db = ['mydb']\n",
    "\n",
    "indices = [1,1]\n",
    "\n",
    "clca = MyMonteCarloLCA(all_demand_dict, \n",
    "                               method=methods[0], \n",
    "                               #presamples = presample,\n",
    "                               final_activities=[],\n",
    "                               database_name = db, \n",
    "                               tech_indices=None,\n",
    "                               bio_indices=None,\n",
    "                               include_only_specific_bio_uncertainty= True, \n",
    "                               include_only_specific_exc_uncertainty = True,\n",
    "                               seed =False)\n",
    "next(clca)\n"
   ]
  },
  {
   "cell_type": "markdown",
   "id": "71b9674c",
   "metadata": {},
   "source": [
    "# Load results of recursive calulcation"
   ]
  },
  {
   "cell_type": "code",
   "execution_count": 321,
   "id": "572eb5db",
   "metadata": {},
   "outputs": [],
   "source": [
    "indices = pd.read_csv(r'..\\..\\GSA_markets\\markets_to_screen\\test_indices.csv')"
   ]
  },
  {
   "cell_type": "code",
   "execution_count": 322,
   "id": "8767a7da",
   "metadata": {},
   "outputs": [],
   "source": [
    "indices_list = list(indices.itertuples(index=False, name=None))"
   ]
  },
  {
   "cell_type": "code",
   "execution_count": 323,
   "id": "180ae602",
   "metadata": {},
   "outputs": [],
   "source": [
    "duplicate_activities_removed = list(set(indices_list))"
   ]
  },
  {
   "cell_type": "code",
   "execution_count": 324,
   "id": "4d41b2e2",
   "metadata": {},
   "outputs": [],
   "source": [
    "activities =[]\n",
    "for i in range(len(duplicate_activities_removed)):\n",
    "    db = bw.Database(duplicate_activities_removed[i][0])\n",
    "    activity = db.get(duplicate_activities_removed[i][1])\n",
    "    activities.append(activity)"
   ]
  },
  {
   "cell_type": "code",
   "execution_count": 325,
   "id": "cb2bb1da",
   "metadata": {},
   "outputs": [
    {
     "data": {
      "text/plain": [
       "2"
      ]
     },
     "execution_count": 325,
     "metadata": {},
     "output_type": "execute_result"
    }
   ],
   "source": [
    "len(activities)"
   ]
  },
  {
   "cell_type": "code",
   "execution_count": 326,
   "id": "33fac8fb",
   "metadata": {},
   "outputs": [
    {
     "data": {
      "text/plain": [
       "['market 1' (unit, GLO, None), 'market 0' (unit, GLO, None)]"
      ]
     },
     "execution_count": 326,
     "metadata": {},
     "output_type": "execute_result"
    }
   ],
   "source": [
    "activities"
   ]
  },
  {
   "cell_type": "markdown",
   "id": "be677b20",
   "metadata": {},
   "source": [
    "# Query exchanges"
   ]
  },
  {
   "cell_type": "markdown",
   "id": "f101d139",
   "metadata": {},
   "source": [
    "Find all the exchanges of the selected activities. Filter and exclude any exchange that should not be sampled."
   ]
  },
  {
   "cell_type": "code",
   "execution_count": 327,
   "id": "e0fcf08e",
   "metadata": {},
   "outputs": [
    {
     "data": {
      "text/plain": [
       "6"
      ]
     },
     "execution_count": 327,
     "metadata": {},
     "output_type": "execute_result"
    }
   ],
   "source": [
    "exchanges= MyMonteCarloLCA.get_exchanges_of_activity_wo_category(clca, activities)\n",
    "len(exchanges)"
   ]
  },
  {
   "cell_type": "code",
   "execution_count": 328,
   "id": "b70613bf",
   "metadata": {},
   "outputs": [
    {
     "data": {
      "text/plain": [
       "6"
      ]
     },
     "execution_count": 328,
     "metadata": {},
     "output_type": "execute_result"
    }
   ],
   "source": [
    "exchanges_units_sorted = [exc for exc in exchanges if exc['exchange']['unit'] == exc['activity']['unit']]\n",
    "len(exchanges_units_sorted)"
   ]
  },
  {
   "cell_type": "code",
   "execution_count": 329,
   "id": "5a39f220",
   "metadata": {},
   "outputs": [
    {
     "data": {
      "text/plain": [
       "4"
      ]
     },
     "execution_count": 329,
     "metadata": {},
     "output_type": "execute_result"
    }
   ],
   "source": [
    "exchanges = [exc for exc in exchanges_units_sorted if exc['tech_indices'][0] != exc['tech_indices'][1] ]\n",
    "len(exchanges)"
   ]
  },
  {
   "cell_type": "code",
   "execution_count": 330,
   "id": "78fe0c8a",
   "metadata": {},
   "outputs": [],
   "source": [
    "activities =[]\n",
    "for exc in exchanges:\n",
    "    activities.append(exc[\"activity\"])"
   ]
  },
  {
   "cell_type": "markdown",
   "id": "b892a39b",
   "metadata": {},
   "source": [
    "## Morris sampling"
   ]
  },
  {
   "cell_type": "code",
   "execution_count": 331,
   "id": "047a55e6",
   "metadata": {},
   "outputs": [],
   "source": [
    "activity_to_group = {}\n",
    "group_counter = 1\n",
    "\n",
    "for entry in exchanges:\n",
    "    activity = entry['activity']\n",
    "    if activity not in activity_to_group:\n",
    "        activity_to_group[activity] = group_counter\n",
    "        group_counter += 1\n",
    "    # Add the group field to the entry\n",
    "    entry['group'] = activity_to_group[activity]\n"
   ]
  },
  {
   "cell_type": "code",
   "execution_count": 332,
   "id": "400914e8",
   "metadata": {},
   "outputs": [],
   "source": [
    "def define_problem(input_data):\n",
    "    # Initialize the output structure\n",
    "    result = {\n",
    " #      'groups': [],\n",
    "        'names': [],\n",
    "        'num_vars': 0,\n",
    "        'bounds': [],\n",
    "        'sample_scaled': True\n",
    "    }\n",
    "    print(input_data)\n",
    "\n",
    "    # Iterate over the input data\n",
    "    for item in input_data:\n",
    "        # Generate the 'name' as a string combining 'exchange' and 'activity'\n",
    "        name = f\"{item['exchange']}  to {item['activity']}\"\n",
    "        result['groups']= ( 'M1 mix', 'M1 mix',   'M0 mix',\n",
    "                           'M0 mix', )\n",
    "        result['names'].append(name)\n",
    "        result['num_vars'] = len(input_data)\n",
    "        if item['value']== 0.5:\n",
    "            bounds = [item['value']-0.5, item['value']+0.5]\n",
    "        else:\n",
    "            bounds = [item['value']-item['value']*1, item['value']+item['value']*1]\n",
    "        result['bounds'].append(bounds)\n",
    "    \n",
    "    return result"
   ]
  },
  {
   "cell_type": "markdown",
   "id": "e8178ce8",
   "metadata": {},
   "source": [
    "### Define problem"
   ]
  },
  {
   "cell_type": "code",
   "execution_count": 333,
   "id": "7693ec66",
   "metadata": {},
   "outputs": [],
   "source": [
    "problem ={'names': [\"ILR_F1\", \"ILR_F2\"],\n",
    " 'num_vars': 2,\n",
    " 'bounds': [[-5,5], [-0.001,0.0001]],\n",
    " 'sample_scaled': True,\n",
    " 'groups': ('M0', 'M1')\n",
    "         }"
   ]
  },
  {
   "cell_type": "markdown",
   "id": "3f4f0d9e",
   "metadata": {},
   "source": [
    "### Sample X"
   ]
  },
  {
   "cell_type": "code",
   "execution_count": 334,
   "id": "209bcfab",
   "metadata": {},
   "outputs": [],
   "source": [
    "import numpy as np\n",
    "\n",
    "def ilr_inverse(ilr_coords):\n",
    "    \"\"\"Inverse ALR transformation.\"\"\"\n",
    "    D = len(ilr_coords) + 1  # Since ALR uses D-1 coordinates\n",
    "    x = np.zeros(D)  # Array to store the original composition\n",
    "    \n",
    "    # Exponentiate the ALR coordinates and set the last component as 1\n",
    "    x[:-1] = np.exp(ilr_coords)\n",
    "    x[-1] = 1 # The last component is the reference, so we don't need to change it\n",
    "    \n",
    "    # Normalize the components to sum to 1\n",
    "    return x / np.sum(x)\n",
    "    "
   ]
  },
  {
   "cell_type": "code",
   "execution_count": 335,
   "id": "9f4f2705",
   "metadata": {},
   "outputs": [],
   "source": [
    "trajectories = [100, 200, 300, 400, 500]"
   ]
  },
  {
   "cell_type": "code",
   "execution_count": 336,
   "id": "7df4d866",
   "metadata": {
    "scrolled": true
   },
   "outputs": [],
   "source": [
    "from SALib.sample.morris import sample\n",
    "X = {}\n",
    "X_without_zeros= {}\n",
    "ratio_samples = {}\n",
    "samples_analyse={}\n",
    "samples_dict={}\n",
    "for trajectory in trajectories:\n",
    "    morris_samples = sample(problem, trajectory, 4)\n",
    "    samples = pd.DataFrame(x).T\n",
    "    samples_analyse[trajectory] =morris_samples.copy()\n",
    "    samples_without_zeros = []\n",
    "    samples = []\n",
    "    for ilr_values in morris_samples:\n",
    "        # Split ILR values by group\n",
    "        ilr_m1 = ilr_values[:1]  # First two are fossil ILRs\n",
    "        ilr_m0 = ilr_values[1:]  # Last four are waste ILRs\n",
    "\n",
    "\n",
    "        m1_composition = ilr_inverse(ilr_m1)\n",
    "        m0_composition = ilr_inverse(ilr_m0)  \n",
    "        x = np.concatenate([m1_composition, m0_composition])\n",
    "        x = np.array(x).T\n",
    "        samples.append(x)\n",
    "    samples = pd.DataFrame(samples).T\n",
    "    samples_with_zeros = np.insert(samples, [0, 0], 0, axis=1)\n",
    "\n",
    "    X[trajectory] = np.array(samples_with_zeros)\n",
    "    X_without_zeros[trajectory] = np.array(samples)\n",
    "    ratio_samples[trajectory] = morris_samples\n",
    "    samples_dict[trajectory] =samples"
   ]
  },
  {
   "cell_type": "code",
   "execution_count": 337,
   "id": "da794467",
   "metadata": {},
   "outputs": [
    {
     "data": {
      "text/html": [
       "<div>\n",
       "<style scoped>\n",
       "    .dataframe tbody tr th:only-of-type {\n",
       "        vertical-align: middle;\n",
       "    }\n",
       "\n",
       "    .dataframe tbody tr th {\n",
       "        vertical-align: top;\n",
       "    }\n",
       "\n",
       "    .dataframe thead th {\n",
       "        text-align: right;\n",
       "    }\n",
       "</style>\n",
       "<table border=\"1\" class=\"dataframe\">\n",
       "  <thead>\n",
       "    <tr style=\"text-align: right;\">\n",
       "      <th></th>\n",
       "      <th>0</th>\n",
       "      <th>1</th>\n",
       "      <th>2</th>\n",
       "      <th>3</th>\n",
       "      <th>4</th>\n",
       "      <th>5</th>\n",
       "      <th>6</th>\n",
       "      <th>7</th>\n",
       "      <th>8</th>\n",
       "      <th>9</th>\n",
       "      <th>...</th>\n",
       "      <th>890</th>\n",
       "      <th>891</th>\n",
       "      <th>892</th>\n",
       "      <th>893</th>\n",
       "      <th>894</th>\n",
       "      <th>895</th>\n",
       "      <th>896</th>\n",
       "      <th>897</th>\n",
       "      <th>898</th>\n",
       "      <th>899</th>\n",
       "    </tr>\n",
       "  </thead>\n",
       "  <tbody>\n",
       "    <tr>\n",
       "      <th>0</th>\n",
       "      <td>0.006693</td>\n",
       "      <td>0.006693</td>\n",
       "      <td>0.841131</td>\n",
       "      <td>0.006693</td>\n",
       "      <td>0.006693</td>\n",
       "      <td>0.841131</td>\n",
       "      <td>0.841131</td>\n",
       "      <td>0.006693</td>\n",
       "      <td>0.006693</td>\n",
       "      <td>0.158869</td>\n",
       "      <td>...</td>\n",
       "      <td>0.158869</td>\n",
       "      <td>0.993307</td>\n",
       "      <td>0.158869</td>\n",
       "      <td>0.158869</td>\n",
       "      <td>0.158869</td>\n",
       "      <td>0.158869</td>\n",
       "      <td>0.993307</td>\n",
       "      <td>0.158869</td>\n",
       "      <td>0.993307</td>\n",
       "      <td>0.993307</td>\n",
       "    </tr>\n",
       "    <tr>\n",
       "      <th>1</th>\n",
       "      <td>0.993307</td>\n",
       "      <td>0.993307</td>\n",
       "      <td>0.158869</td>\n",
       "      <td>0.993307</td>\n",
       "      <td>0.993307</td>\n",
       "      <td>0.158869</td>\n",
       "      <td>0.158869</td>\n",
       "      <td>0.993307</td>\n",
       "      <td>0.993307</td>\n",
       "      <td>0.841131</td>\n",
       "      <td>...</td>\n",
       "      <td>0.841131</td>\n",
       "      <td>0.006693</td>\n",
       "      <td>0.841131</td>\n",
       "      <td>0.841131</td>\n",
       "      <td>0.841131</td>\n",
       "      <td>0.841131</td>\n",
       "      <td>0.006693</td>\n",
       "      <td>0.841131</td>\n",
       "      <td>0.006693</td>\n",
       "      <td>0.006693</td>\n",
       "    </tr>\n",
       "    <tr>\n",
       "      <th>2</th>\n",
       "      <td>0.499750</td>\n",
       "      <td>0.499933</td>\n",
       "      <td>0.499933</td>\n",
       "      <td>0.500025</td>\n",
       "      <td>0.499842</td>\n",
       "      <td>0.499842</td>\n",
       "      <td>0.500025</td>\n",
       "      <td>0.500025</td>\n",
       "      <td>0.499842</td>\n",
       "      <td>0.499933</td>\n",
       "      <td>...</td>\n",
       "      <td>0.499750</td>\n",
       "      <td>0.500025</td>\n",
       "      <td>0.500025</td>\n",
       "      <td>0.499842</td>\n",
       "      <td>0.499933</td>\n",
       "      <td>0.499750</td>\n",
       "      <td>0.499750</td>\n",
       "      <td>0.499842</td>\n",
       "      <td>0.499842</td>\n",
       "      <td>0.500025</td>\n",
       "    </tr>\n",
       "    <tr>\n",
       "      <th>3</th>\n",
       "      <td>0.500250</td>\n",
       "      <td>0.500067</td>\n",
       "      <td>0.500067</td>\n",
       "      <td>0.499975</td>\n",
       "      <td>0.500158</td>\n",
       "      <td>0.500158</td>\n",
       "      <td>0.499975</td>\n",
       "      <td>0.499975</td>\n",
       "      <td>0.500158</td>\n",
       "      <td>0.500067</td>\n",
       "      <td>...</td>\n",
       "      <td>0.500250</td>\n",
       "      <td>0.499975</td>\n",
       "      <td>0.499975</td>\n",
       "      <td>0.500158</td>\n",
       "      <td>0.500067</td>\n",
       "      <td>0.500250</td>\n",
       "      <td>0.500250</td>\n",
       "      <td>0.500158</td>\n",
       "      <td>0.500158</td>\n",
       "      <td>0.499975</td>\n",
       "    </tr>\n",
       "  </tbody>\n",
       "</table>\n",
       "<p>4 rows × 900 columns</p>\n",
       "</div>"
      ],
      "text/plain": [
       "        0         1         2         3         4         5         6    \\\n",
       "0  0.006693  0.006693  0.841131  0.006693  0.006693  0.841131  0.841131   \n",
       "1  0.993307  0.993307  0.158869  0.993307  0.993307  0.158869  0.158869   \n",
       "2  0.499750  0.499933  0.499933  0.500025  0.499842  0.499842  0.500025   \n",
       "3  0.500250  0.500067  0.500067  0.499975  0.500158  0.500158  0.499975   \n",
       "\n",
       "        7         8         9    ...       890       891       892       893  \\\n",
       "0  0.006693  0.006693  0.158869  ...  0.158869  0.993307  0.158869  0.158869   \n",
       "1  0.993307  0.993307  0.841131  ...  0.841131  0.006693  0.841131  0.841131   \n",
       "2  0.500025  0.499842  0.499933  ...  0.499750  0.500025  0.500025  0.499842   \n",
       "3  0.499975  0.500158  0.500067  ...  0.500250  0.499975  0.499975  0.500158   \n",
       "\n",
       "        894       895       896       897       898       899  \n",
       "0  0.158869  0.158869  0.993307  0.158869  0.993307  0.993307  \n",
       "1  0.841131  0.841131  0.006693  0.841131  0.006693  0.006693  \n",
       "2  0.499933  0.499750  0.499750  0.499842  0.499842  0.500025  \n",
       "3  0.500067  0.500250  0.500250  0.500158  0.500158  0.499975  \n",
       "\n",
       "[4 rows x 900 columns]"
      ]
     },
     "execution_count": 337,
     "metadata": {},
     "output_type": "execute_result"
    }
   ],
   "source": [
    "samples_dict[300]"
   ]
  },
  {
   "cell_type": "markdown",
   "id": "13a509e1",
   "metadata": {},
   "source": [
    "# update value with dirichlet distribution"
   ]
  },
  {
   "cell_type": "markdown",
   "id": "6658908b",
   "metadata": {},
   "source": [
    "For each activity, the quantity (value) of exchanges is updated in `exc_ dict` so that they sum to 1. \n",
    "\n",
    "`ext_dict` is a dictionnary that stores exchange names, their indices, their quantity (value) and their source activity.\n",
    "\n",
    "The values summing to one are sampled using dirichlet distribution (N= mc) with different `concentration values`.\n",
    "For each `concentration value` a new `exc_dict` is stored.  "
   ]
  },
  {
   "cell_type": "code",
   "execution_count": 338,
   "id": "da4b0a4a",
   "metadata": {},
   "outputs": [
    {
     "name": "stdout",
     "output_type": "stream",
     "text": [
      "CPU times: total: 0 ns\n",
      "Wall time: 0 ns\n"
     ]
    }
   ],
   "source": [
    "%%time\n",
    "results_normalized ={}\n",
    "for trajectory, samples in X.items():\n",
    "    new_samples_normalized = [\n",
    "        {\n",
    "            'trajectory': trajectory,\n",
    "            'runs': len(X[trajectory][j]),\n",
    "            'indices': exc['tech_indices'],\n",
    "            'activity': exc['activity'],\n",
    "            'exchange': exc['exchange'],\n",
    "            'exc_database': exc['database'],\n",
    "            'act_database': exc['activity'][0],\n",
    "            'sample': X[trajectory][j],\n",
    "            'old_value': exc['value'],\n",
    "            #'index': i\n",
    "        }\n",
    "        for j, exc in enumerate(exchanges)\n",
    "]\n",
    "    results_normalized[trajectory] = new_samples_normalized\n",
    "\n",
    "\n",
    "#results_normalized.extend(new_samples_normalized)\n",
    "#all_results = pd.DataFrame(new_samples_normalized)"
   ]
  },
  {
   "cell_type": "markdown",
   "id": "3105cc2b",
   "metadata": {},
   "source": [
    "# create presamples"
   ]
  },
  {
   "cell_type": "markdown",
   "id": "fbb54c25",
   "metadata": {},
   "source": [
    "A presample is created for each `exc_dict`."
   ]
  },
  {
   "cell_type": "code",
   "execution_count": 339,
   "id": "69b84fc0",
   "metadata": {},
   "outputs": [
    {
     "name": "stdout",
     "output_type": "stream",
     "text": [
      "CPU times: total: 31.2 ms\n",
      "Wall time: 28.4 ms\n"
     ]
    }
   ],
   "source": [
    "%%time\n",
    "presamples_data_normalized = {}\n",
    "presamples_indices_normalized = {}  \n",
    "\n",
    "for trajectory, samples in results_normalized.items():  # Assuming results_normalized is a dictionary\n",
    "    presamples_data_normalized[trajectory] = []  # Initialize empty list for this trajectory\n",
    "    presamples_indices_normalized[trajectory] = []  # Initialize empty list for this trajectory\n",
    "    \n",
    "    for exc in samples:\n",
    "        process = bw.Database(exc['exc_database']).get(exc['exchange'][1])\n",
    "        activity = bw.Database(exc['act_database']).get(exc['activity'][1])\n",
    "        value = exc['sample']\n",
    "\n",
    "        data, indices = create_presamples(\n",
    "            activity=activity,\n",
    "            process=process,\n",
    "            exchanges={\n",
    "                \"new_exchange\": process,\n",
    "                \"new_value\": lambda process: value\n",
    "            }\n",
    "        )\n",
    "\n",
    "        presamples_data_normalized[trajectory].append(data)\n",
    "        presamples_indices_normalized[trajectory].append(indices)\n",
    "\n",
    "    presamples_data_normalized[trajectory] = np.vstack(presamples_data_normalized[trajectory])\n",
    "    #presamples_data_dict_normalized[trajectory] = presamples_data_normalized[trajectory]\n",
    "    #presamples_indices_dict_normalized[trajectory] = presamples_indices_normalized[trajectory]"
   ]
  },
  {
   "cell_type": "code",
   "execution_count": 340,
   "id": "7f6e41c1",
   "metadata": {},
   "outputs": [],
   "source": [
    "index_matrix_data = {}\n",
    "for trajectory, samples in results_normalized.items():\n",
    "    index_matrix_data_normalized = [\n",
    "        (globals()[f'presamples_data_normalized'][trajectory], \n",
    "         globals()[f'presamples_indices_normalized'][trajectory], 'technosphere')\n",
    "    ]\n",
    "    \n",
    "    index_id_normalized, index_path_normalized = ps.create_presamples_package(\n",
    "        matrix_data=index_matrix_data_normalized,\n",
    "    )\n",
    "    \n",
    "    index_matrix_data[trajectory] = {\n",
    "        'data': index_matrix_data_normalized,\n",
    "        'index_id': index_id_normalized,\n",
    "        'index_path': index_path_normalized\n",
    "    }\n",
    "    \n",
    "    globals()[f'index_id_normalized_{trajectory}'] = index_id_normalized\n",
    "    globals()[f'index_path_normalized_{trajectory}'] = index_path_normalized\n"
   ]
  },
  {
   "cell_type": "markdown",
   "id": "0341f2e6",
   "metadata": {},
   "source": [
    "# LCA calculations"
   ]
  },
  {
   "cell_type": "code",
   "execution_count": 341,
   "id": "58c9eeba",
   "metadata": {},
   "outputs": [],
   "source": [
    "presamples = [{\"name\": size, \"runs\": len(X[size][0]), \"path\": [globals()[f'index_path_normalized_{size}']], \"number\": \"all\"} for size in trajectories]"
   ]
  },
  {
   "cell_type": "code",
   "execution_count": 342,
   "id": "199c44eb",
   "metadata": {},
   "outputs": [
    {
     "name": "stdout",
     "output_type": "stream",
     "text": [
      "100\n",
      "200\n",
      "300\n",
      "400\n",
      "500\n"
     ]
    }
   ],
   "source": [
    "for size in trajectories:\n",
    "    print(size)"
   ]
  },
  {
   "cell_type": "code",
   "execution_count": 343,
   "id": "98a8a215",
   "metadata": {
    "scrolled": true
   },
   "outputs": [
    {
     "name": "stdout",
     "output_type": "stream",
     "text": [
      "CPU times: total: 17.7 s\n",
      "Wall time: 7.73 s\n"
     ]
    }
   ],
   "source": [
    "%%time\n",
    "import time\n",
    "\n",
    "indices = []\n",
    "results = []\n",
    "final_activities = []\n",
    "component_order = []\n",
    "\n",
    "results_by_name = {}\n",
    "\n",
    "for presample in presamples:\n",
    "    start_time = time.time()\n",
    "\n",
    "    clca = MyMonteCarloLCA(\n",
    "        all_demand_dict,\n",
    "        method=methods[0],\n",
    "        presamples=presample[\"path\"],\n",
    "        final_activities=final_activities,\n",
    "        database_name=db,\n",
    "        bio_indices=None,\n",
    "        tech_indices=None,\n",
    "        include_only_specific_bio_uncertainty=True,\n",
    "        include_only_specific_exc_uncertainty=True,\n",
    "    )\n",
    "\n",
    "    next(clca)\n",
    "\n",
    "    temp_results = collect_results(\n",
    "        clca,\n",
    "        all_demands,\n",
    "        final_activities,\n",
    "        len(X_without_zeros[presample[\"name\"]][0]),\n",
    "        methods[0],\n",
    "        d_label,\n",
    "        component_order,\n",
    "        database_name=db,\n",
    "        bio_indices=None,\n",
    "        tech_indices=None,\n",
    "        include_only_specific_bio_uncertainty=True,\n",
    "        include_only_specific_exc_uncertainty=True,\n",
    "    )\n",
    "\n",
    "    end_time = time.time()\n",
    "    runtime = end_time - start_time\n",
    "\n",
    "    temp_results[\"category\"] = presample[\"name\"]\n",
    "    temp_results[\"runtime\"] = runtime \n",
    "    temp_results[\"runs\"] = presample[\"runs\"]\n",
    "\n",
    "    results_by_name[presample[\"name\"]] = temp_results\n",
    "\n",
    "\n",
    "morris_results = pd.concat(results_by_name)"
   ]
  },
  {
   "cell_type": "code",
   "execution_count": 344,
   "id": "e830482f",
   "metadata": {},
   "outputs": [],
   "source": [
    "#morris_results.to_csv(r'..\\..\\GSA_markets\\results\\Simple_global_scores_morris.csv', index=False)"
   ]
  },
  {
   "cell_type": "code",
   "execution_count": 345,
   "id": "1573ce1e",
   "metadata": {},
   "outputs": [
    {
     "data": {
      "text/plain": [
       "{100: array([[0.        , 0.        , 0.1588691 , ..., 0.8411309 , 0.8411309 ,\n",
       "         0.00669285],\n",
       "        [0.        , 0.        , 0.8411309 , ..., 0.1588691 , 0.1588691 ,\n",
       "         0.99330715],\n",
       "        [0.        , 0.        , 0.49975   , ..., 0.49993333, 0.49975   ,\n",
       "         0.49975   ],\n",
       "        [0.        , 0.        , 0.50025   , ..., 0.50006667, 0.50025   ,\n",
       "         0.50025   ]]),\n",
       " 200: array([[0.        , 0.        , 0.8411309 , ..., 0.00669285, 0.00669285,\n",
       "         0.8411309 ],\n",
       "        [0.        , 0.        , 0.1588691 , ..., 0.99330715, 0.99330715,\n",
       "         0.1588691 ],\n",
       "        [0.        , 0.        , 0.500025  , ..., 0.49984167, 0.500025  ,\n",
       "         0.500025  ],\n",
       "        [0.        , 0.        , 0.499975  , ..., 0.50015833, 0.499975  ,\n",
       "         0.499975  ]]),\n",
       " 300: array([[0.        , 0.        , 0.00669285, ..., 0.1588691 , 0.99330715,\n",
       "         0.99330715],\n",
       "        [0.        , 0.        , 0.99330715, ..., 0.8411309 , 0.00669285,\n",
       "         0.00669285],\n",
       "        [0.        , 0.        , 0.49975   , ..., 0.49984167, 0.49984167,\n",
       "         0.500025  ],\n",
       "        [0.        , 0.        , 0.50025   , ..., 0.50015833, 0.50015833,\n",
       "         0.499975  ]]),\n",
       " 400: array([[0.        , 0.        , 0.99330715, ..., 0.1588691 , 0.99330715,\n",
       "         0.99330715],\n",
       "        [0.        , 0.        , 0.00669285, ..., 0.8411309 , 0.00669285,\n",
       "         0.00669285],\n",
       "        [0.        , 0.        , 0.49984167, ..., 0.49993333, 0.49993333,\n",
       "         0.49975   ],\n",
       "        [0.        , 0.        , 0.50015833, ..., 0.50006667, 0.50006667,\n",
       "         0.50025   ]]),\n",
       " 500: array([[0.        , 0.        , 0.1588691 , ..., 0.8411309 , 0.8411309 ,\n",
       "         0.00669285],\n",
       "        [0.        , 0.        , 0.8411309 , ..., 0.1588691 , 0.1588691 ,\n",
       "         0.99330715],\n",
       "        [0.        , 0.        , 0.49975   , ..., 0.49984167, 0.500025  ,\n",
       "         0.500025  ],\n",
       "        [0.        , 0.        , 0.50025   , ..., 0.50015833, 0.499975  ,\n",
       "         0.499975  ]])}"
      ]
     },
     "execution_count": 345,
     "metadata": {},
     "output_type": "execute_result"
    }
   ],
   "source": [
    "X"
   ]
  },
  {
   "cell_type": "markdown",
   "id": "ad3684de",
   "metadata": {},
   "source": [
    "# Sensitivity analysis"
   ]
  },
  {
   "cell_type": "code",
   "execution_count": 346,
   "id": "190c62e5",
   "metadata": {},
   "outputs": [
    {
     "name": "stdout",
     "output_type": "stream",
     "text": [
      "2\n",
      "2\n",
      "2\n",
      "2\n",
      "2\n"
     ]
    }
   ],
   "source": [
    "from SALib.analyze.morris import analyze\n",
    "SA_results={}\n",
    "for trajectory in trajectories:\n",
    "    LCIA = morris_results[morris_results['category']== trajectory]\n",
    "    samples_copy = np.array(samples_dict[trajectory].transpose(), dtype=np.float64)\n",
    "    SA_normalized = analyze(problem, samples_analyse[trajectory], np.array(LCIA['score']), \n",
    "                            conf_level=0.95,  \n",
    "                            print_to_console=False, \n",
    "                        \n",
    "                           \n",
    "          )\n",
    "\n",
    "    SA_results[trajectory] = pd.DataFrame(SA_normalized)"
   ]
  },
  {
   "cell_type": "code",
   "execution_count": 347,
   "id": "4e2ceddd",
   "metadata": {},
   "outputs": [
    {
     "data": {
      "text/plain": [
       "300"
      ]
     },
     "execution_count": 347,
     "metadata": {},
     "output_type": "execute_result"
    }
   ],
   "source": [
    "len(samples_analyse[100])"
   ]
  },
  {
   "cell_type": "code",
   "execution_count": 348,
   "id": "fd4548cb",
   "metadata": {},
   "outputs": [],
   "source": [
    "for key in SA_results:\n",
    "    SA_results[key]['names'] = ['M0', 'M1']"
   ]
  },
  {
   "cell_type": "code",
   "execution_count": 349,
   "id": "90c19bb9",
   "metadata": {},
   "outputs": [],
   "source": [
    "SA_results_df = pd.concat([df.assign(index=k) for k, df in SA_results.items()])"
   ]
  },
  {
   "cell_type": "code",
   "execution_count": 350,
   "id": "4d534c4b",
   "metadata": {},
   "outputs": [
    {
     "data": {
      "text/html": [
       "<div>\n",
       "<style scoped>\n",
       "    .dataframe tbody tr th:only-of-type {\n",
       "        vertical-align: middle;\n",
       "    }\n",
       "\n",
       "    .dataframe tbody tr th {\n",
       "        vertical-align: top;\n",
       "    }\n",
       "\n",
       "    .dataframe thead th {\n",
       "        text-align: right;\n",
       "    }\n",
       "</style>\n",
       "<table border=\"1\" class=\"dataframe\">\n",
       "  <thead>\n",
       "    <tr style=\"text-align: right;\">\n",
       "      <th></th>\n",
       "      <th>names</th>\n",
       "      <th>mu</th>\n",
       "      <th>mu_star</th>\n",
       "      <th>sigma</th>\n",
       "      <th>mu_star_conf</th>\n",
       "      <th>index</th>\n",
       "    </tr>\n",
       "  </thead>\n",
       "  <tbody>\n",
       "    <tr>\n",
       "      <th>0</th>\n",
       "      <td>M0</td>\n",
       "      <td>-3.439094</td>\n",
       "      <td>3.864791</td>\n",
       "      <td>5.870855</td>\n",
       "      <td>1.077787</td>\n",
       "      <td>100</td>\n",
       "    </tr>\n",
       "    <tr>\n",
       "      <th>1</th>\n",
       "      <td>M1</td>\n",
       "      <td>2.546915</td>\n",
       "      <td>10.614937</td>\n",
       "      <td>11.190950</td>\n",
       "      <td>0.806280</td>\n",
       "      <td>100</td>\n",
       "    </tr>\n",
       "    <tr>\n",
       "      <th>0</th>\n",
       "      <td>M0</td>\n",
       "      <td>-3.419205</td>\n",
       "      <td>3.691681</td>\n",
       "      <td>5.690966</td>\n",
       "      <td>0.788237</td>\n",
       "      <td>200</td>\n",
       "    </tr>\n",
       "    <tr>\n",
       "      <th>1</th>\n",
       "      <td>M1</td>\n",
       "      <td>0.265244</td>\n",
       "      <td>9.459937</td>\n",
       "      <td>10.713287</td>\n",
       "      <td>0.677518</td>\n",
       "      <td>200</td>\n",
       "    </tr>\n",
       "    <tr>\n",
       "      <th>0</th>\n",
       "      <td>M0</td>\n",
       "      <td>-3.560655</td>\n",
       "      <td>3.833195</td>\n",
       "      <td>5.808098</td>\n",
       "      <td>0.597253</td>\n",
       "      <td>300</td>\n",
       "    </tr>\n",
       "    <tr>\n",
       "      <th>1</th>\n",
       "      <td>M1</td>\n",
       "      <td>-0.615526</td>\n",
       "      <td>9.585289</td>\n",
       "      <td>10.855527</td>\n",
       "      <td>0.623772</td>\n",
       "      <td>300</td>\n",
       "    </tr>\n",
       "    <tr>\n",
       "      <th>0</th>\n",
       "      <td>M0</td>\n",
       "      <td>-2.909671</td>\n",
       "      <td>3.227516</td>\n",
       "      <td>5.442676</td>\n",
       "      <td>0.525279</td>\n",
       "      <td>400</td>\n",
       "    </tr>\n",
       "    <tr>\n",
       "      <th>1</th>\n",
       "      <td>M1</td>\n",
       "      <td>-0.056775</td>\n",
       "      <td>9.701517</td>\n",
       "      <td>10.922936</td>\n",
       "      <td>0.488501</td>\n",
       "      <td>400</td>\n",
       "    </tr>\n",
       "    <tr>\n",
       "      <th>0</th>\n",
       "      <td>M0</td>\n",
       "      <td>-3.076660</td>\n",
       "      <td>3.307476</td>\n",
       "      <td>5.411159</td>\n",
       "      <td>0.481717</td>\n",
       "      <td>500</td>\n",
       "    </tr>\n",
       "    <tr>\n",
       "      <th>1</th>\n",
       "      <td>M1</td>\n",
       "      <td>-0.455506</td>\n",
       "      <td>9.595997</td>\n",
       "      <td>10.820478</td>\n",
       "      <td>0.462655</td>\n",
       "      <td>500</td>\n",
       "    </tr>\n",
       "  </tbody>\n",
       "</table>\n",
       "</div>"
      ],
      "text/plain": [
       "  names        mu    mu_star      sigma  mu_star_conf  index\n",
       "0    M0 -3.439094   3.864791   5.870855      1.077787    100\n",
       "1    M1  2.546915  10.614937  11.190950      0.806280    100\n",
       "0    M0 -3.419205   3.691681   5.690966      0.788237    200\n",
       "1    M1  0.265244   9.459937  10.713287      0.677518    200\n",
       "0    M0 -3.560655   3.833195   5.808098      0.597253    300\n",
       "1    M1 -0.615526   9.585289  10.855527      0.623772    300\n",
       "0    M0 -2.909671   3.227516   5.442676      0.525279    400\n",
       "1    M1 -0.056775   9.701517  10.922936      0.488501    400\n",
       "0    M0 -3.076660   3.307476   5.411159      0.481717    500\n",
       "1    M1 -0.455506   9.595997  10.820478      0.462655    500"
      ]
     },
     "execution_count": 350,
     "metadata": {},
     "output_type": "execute_result"
    }
   ],
   "source": [
    "SA_results_df"
   ]
  },
  {
   "cell_type": "code",
   "execution_count": 351,
   "id": "5516c08f",
   "metadata": {},
   "outputs": [],
   "source": [
    "#SA_results_df.to_csv(r'..\\..\\GSA_markets\\results\\Simple_global_results_morris.csv', index=False)"
   ]
  },
  {
   "cell_type": "markdown",
   "id": "14c996a1",
   "metadata": {},
   "source": [
    "# Plots"
   ]
  },
  {
   "cell_type": "code",
   "execution_count": 352,
   "id": "278c4ddf",
   "metadata": {},
   "outputs": [],
   "source": [
    "import matplotlib as mpl\n",
    "import seaborn.objects as so\n",
    "import matplotlib.pyplot as plt"
   ]
  },
  {
   "cell_type": "code",
   "execution_count": 353,
   "id": "fc868664",
   "metadata": {},
   "outputs": [
    {
     "data": {
      "image/png": "[encoded data removed]",
      "text/plain": [
       "<seaborn._core.plot.Plot at 0x2adf7b737c0>"
      ]
     },
     "execution_count": 353,
     "metadata": {
      "image/png": {
       "height": 378.25,
       "width": 509.15
      }
     },
     "output_type": "execute_result"
    }
   ],
   "source": [
    "p = (\n",
    "    so.Plot(morris_results, x=\"score\")\n",
    "    .add(so.Bars(), so.Hist())\n",
    " #   .layout(size=(3, 2))\n",
    ")\n",
    "p.label(x=\"Climate change impact (GWP / kg CO$_{2e}$)\", y=\"Climate change impact (GWP / kg CO$_{2e}$)\", color=\"\")"
   ]
  },
  {
   "cell_type": "code",
   "execution_count": null,
   "id": "c5ab59d2",
   "metadata": {},
   "outputs": [],
   "source": []
  },
  {
   "cell_type": "code",
   "execution_count": null,
   "id": "d6349e48",
   "metadata": {},
   "outputs": [],
   "source": []
  }
 ],
 "metadata": {
  "kernelspec": {
   "display_name": "ab",
   "language": "python",
   "name": "ab"
  },
  "language_info": {
   "codemirror_mode": {
    "name": "ipython",
    "version": 3
   },
   "file_extension": ".py",
   "mimetype": "text/x-python",
   "name": "python",
   "nbconvert_exporter": "python",
   "pygments_lexer": "ipython3",
   "version": "3.9.13"
  }
 },
 "nbformat": 4,
 "nbformat_minor": 5
}
