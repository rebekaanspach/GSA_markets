{
 "cells": [
  {
   "cell_type": "markdown",
   "id": "dddd1022",
   "metadata": {},
   "source": [
    "# Local analysis, screening Ecoinvent market consumption mixes: grouping by markets"
   ]
  },
  {
   "cell_type": "code",
   "execution_count": 2,
   "id": "8970c3ba",
   "metadata": {},
   "outputs": [
    {
     "data": {
      "text/plain": [
       "(0, 2, 6)"
      ]
     },
     "execution_count": 2,
     "metadata": {},
     "output_type": "execute_result"
    }
   ],
   "source": [
    "import brightway2 as bw\n",
    "import bw2calc as bc\n",
    "import bw2data as bd\n",
    "import numpy as np\n",
    "import pandas as pd\n",
    "import presamples as ps\n",
    "import scipy\n",
    "import scipy.stats as stats\n",
    "from code.functions import make_dirichlet_distribution, get_elec_input, create_presamples, query_for_activities\n",
    "ps.__version__"
   ]
  },
  {
   "cell_type": "code",
   "execution_count": null,
   "id": "2357b453",
   "metadata": {},
   "outputs": [],
   "source": [
    "from presamples import array\n",
    "\n",
    "def custom_sample(self, index):\n",
    "    \"\"\"Draw a new sample from the pre-sampled arrays sequentially not randomly. The original code draws samples randomly. \"\"\"\n",
    "    index_ordered = self.count % self.data[0].shape[1]\n",
    "    result = np.hstack([arr[:, index_ordered] for arr in self.data])\n",
    "    self.count += 1   \n",
    "    return result\n",
    "\n",
    "\n",
    "array.RegularPresamplesArrays.sample = custom_sample"
   ]
  },
  {
   "cell_type": "code",
   "execution_count": null,
   "id": "c5eaf8e1",
   "metadata": {},
   "outputs": [],
   "source": [
    "# Generate objects for analysis\n",
    "\n",
    "bw.projects.set_current(\"UK-wood-clca\")\n",
    "\n",
    "cutoff391 = bw.Database('cutoff-3.9.1')\n",
    "\n",
    "fus = pd.read_excel(r\"run.xlsx\", sheet_name='to_run_2')\n",
    "numbers = fus['indices'].tolist()\n",
    "output_dir  = fus['names'].tolist()\n",
    "amount  = fus['amount'].tolist()\n",
    "reference_product  = fus['reference_product'].tolist()\n",
    "tier = fus['tier'].tolist()\n",
    "\n",
    "\n",
    "fu = [cutoff391.get({num}) for num in numbers]\n",
    "methods = [('ReCiPe 2016 v1.03, midpoint (H)', 'climate change', 'global warming potential (GWP1000)'), ]"
   ]
  },
  {
   "cell_type": "code",
   "execution_count": null,
   "id": "0c6223de",
   "metadata": {},
   "outputs": [],
   "source": [
    "Global_cat= pd.read_csv(\"results/Global__market_test_category_scores_60_products.csv\")\n",
    "reverse_mapping = {v: k for k, v in category_mapping.items()}\n",
    "\n",
    "Global_cat['Category Number'] = Global_cat['names'].map(reverse_mapping)\n",
    "\n",
    "fus = pd.read_excel(r\"run.xlsx\", sheet_name='to_run_2')\n",
    "#numbers = pd.read_excel(r\"presamples/to_run.xlsx\", sheet_name='indices')\n",
    "numbers = fus['indices'].tolist()\n",
    "output_dir  = fus['names'].tolist()\n",
    "amount  = fus['amount'].tolist()\n",
    "amount  = fus['amount'].tolist()\n",
    "reference_product  = fus['reference_product'].tolist()\n",
    "tier = fus['tier'].tolist()\n",
    "\n",
    "fu = [cutoff391.get({num}) for num in numbers]"
   ]
  },
  {
   "cell_type": "code",
   "execution_count": null,
   "id": "16d37ffd",
   "metadata": {},
   "outputs": [],
   "source": [
    "from code/morris_local_market_analysis import perform_local_morris_analysis"
   ]
  },
  {
   "cell_type": "code",
   "execution_count": null,
   "id": "7ceaa7cc",
   "metadata": {
    "scrolled": true
   },
   "outputs": [],
   "source": [
    "%%time\n",
    "Local_scores = []\n",
    "for i in range(len(output_dir)):\n",
    "    if len(Global_cat[Global_cat['fu'] == output_dir[i]]['names'].values) > 0: \n",
    "        sa_local = perform_local_morris_analysis(fu[i], \n",
    "                                                 1,\n",
    "                                    output_dir[i], \n",
    "                                    output_dir[i],\n",
    "                                     methods, \n",
    "                                     cutoff391, \n",
    "                                     trajectories = 10, \n",
    "                                     num_levels = 4,\n",
    "                                    category_names=Global_cat[Global_cat['fu'] == output_dir[i]]['names'].values,\n",
    "                                    category_numbers=Global_cat[Global_cat['fu'] == output_dir[i]]['Category Number'].values,\n",
    "                                     market_dir= output_dir[i])\n",
    "        sa_local['fu'] = output_dir[i]\n",
    "        Local_scores.append(sa_local)\n",
    "Local_scores = pd.concat(Local_scores, ignore_index=True)\n",
    "Local_scores.to_csv(f\"results/Local_scores_by_market_10.csv\", index=False)"
   ]
  }
 ],
 "metadata": {
  "kernelspec": {
   "display_name": "ab",
   "language": "python",
   "name": "ab"
  },
  "language_info": {
   "codemirror_mode": {
    "name": "ipython",
    "version": 3
   },
   "file_extension": ".py",
   "mimetype": "text/x-python",
   "name": "python",
   "nbconvert_exporter": "python",
   "pygments_lexer": "ipython3",
   "version": "3.9.13"
  }
 },
 "nbformat": 4,
 "nbformat_minor": 5
}
